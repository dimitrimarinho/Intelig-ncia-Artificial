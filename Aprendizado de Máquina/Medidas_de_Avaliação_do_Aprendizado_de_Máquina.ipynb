{
  "nbformat": 4,
  "nbformat_minor": 0,
  "metadata": {
    "colab": {
      "provenance": []
    },
    "kernelspec": {
      "name": "python3",
      "display_name": "Python 3"
    },
    "language_info": {
      "name": "python"
    }
  },
  "cells": [
    {
      "cell_type": "markdown",
      "source": [
        "# Matriz de Confusão Binária"
      ],
      "metadata": {
        "id": "A1PcF2hXLTsq"
      }
    },
    {
      "cell_type": "markdown",
      "source": [
        "Uma forma de apresentar integralmente o desempenho de um algoritmo de classificação binária é construindo uma **Matriz de Confusão** que relaciona as classes desejadas com as preditas."
      ],
      "metadata": {
        "id": "d3KWhEUNLWQ9"
      }
    },
    {
      "cell_type": "markdown",
      "source": [
        "![image](https://i.imgur.com/7WFF5h8.png)"
      ],
      "metadata": {
        "id": "UEYSnoBqMMKW"
      }
    },
    {
      "cell_type": "markdown",
      "source": [
        "# Medidas de Avaliação"
      ],
      "metadata": {
        "id": "evvXqE4EMmcz"
      }
    },
    {
      "cell_type": "markdown",
      "source": [
        "Algumas medidas de avaliação são:\n",
        "\n",
        "\n",
        "*   Acurácia\n",
        "*   Taxa de Erro\n",
        "*   Taxa de Falsos Positivos\n",
        "*   Taxa de Verdadeiros Positivos\n",
        "*   Especificidade\n",
        "*   Precisão\n",
        "*   Medida-F\n",
        "*   Curvas ROC\n",
        "\n",
        "\n"
      ],
      "metadata": {
        "id": "M2Zap8RZMTJT"
      }
    },
    {
      "cell_type": "markdown",
      "source": [
        "## Acurácia"
      ],
      "metadata": {
        "id": "SvAzwBSiMpsf"
      }
    },
    {
      "cell_type": "markdown",
      "source": [
        "![image](https://i.imgur.com/8iPm3bA.png)\n",
        "\n"
      ],
      "metadata": {
        "id": "T5DqgQ1BNhQ5"
      }
    },
    {
      "cell_type": "markdown",
      "source": [
        "A **Acurácia** (taxa global de sucesso) é medida pela quantidade de acertos dividido pelo número total de possibilidades (classificações corretas / número total de classificações)"
      ],
      "metadata": {
        "id": "o2id1uXTMrni"
      }
    },
    {
      "cell_type": "markdown",
      "source": [
        "A proporção de predições corretas, sem considerar o que é positivo e o que é negativo."
      ],
      "metadata": {
        "id": "D5erfiPUM-sB"
      }
    },
    {
      "cell_type": "markdown",
      "source": [
        "## Taxa de Erro"
      ],
      "metadata": {
        "id": "CktTsqLxNwtK"
      }
    },
    {
      "cell_type": "markdown",
      "source": [
        "![image](https://i.imgur.com/sG9GHu1.png)"
      ],
      "metadata": {
        "id": "YNaSj70eOMwY"
      }
    },
    {
      "cell_type": "markdown",
      "source": [
        "A **Taxa de Erro** é o todo menos o número de acertos."
      ],
      "metadata": {
        "id": "Afn_U5YsNzYF"
      }
    },
    {
      "cell_type": "markdown",
      "source": [
        "## Taxa de Falsos Positivos"
      ],
      "metadata": {
        "id": "hGqv-zINOUIb"
      }
    },
    {
      "cell_type": "markdown",
      "source": [
        "![image](https://i.imgur.com/rzajrPb.png)"
      ],
      "metadata": {
        "id": "kkR3t_lWO9LO"
      }
    },
    {
      "cell_type": "markdown",
      "source": [
        "A **TFP** ou (**1-Especificidade**) corresponde ao percentual de objetos negativos classificados como positivos."
      ],
      "metadata": {
        "id": "TZ1eEdn8OYp5"
      }
    },
    {
      "cell_type": "markdown",
      "source": [
        "## Taxa de Verdadeiros Positivos"
      ],
      "metadata": {
        "id": "rGWP1R5GPfDz"
      }
    },
    {
      "cell_type": "markdown",
      "source": [
        "![image](https://i.imgur.com/2QXgpax.png)"
      ],
      "metadata": {
        "id": "j5NsvbahQV4D"
      }
    },
    {
      "cell_type": "markdown",
      "source": [
        "A **TVP**, **Sensibilidade**, **Revocação** ou **Recall** corresponde ao percentual de objetos positivos classificados corretamente como positivos."
      ],
      "metadata": {
        "id": "PQ9l_hjnPhag"
      }
    },
    {
      "cell_type": "markdown",
      "source": [
        "## Especificidade"
      ],
      "metadata": {
        "id": "j1iWXIm3Qww7"
      }
    },
    {
      "cell_type": "markdown",
      "source": [
        "![image](https://i.imgur.com/1Ud1ifE.png)"
      ],
      "metadata": {
        "id": "JAh5tP8qRYDx"
      }
    },
    {
      "cell_type": "markdown",
      "source": [
        "A **Especificidade** corresponde ao percentual de objetos negativos classificados corretamente como negativos."
      ],
      "metadata": {
        "id": "tcF2bUDSQ4Hu"
      }
    },
    {
      "cell_type": "markdown",
      "source": [
        "## Precisão"
      ],
      "metadata": {
        "id": "2IXilKmgRiS0"
      }
    },
    {
      "cell_type": "markdown",
      "source": [
        "![image](https://i.imgur.com/etDQnef.png)"
      ],
      "metadata": {
        "id": "uKeh1XYuSBuB"
      }
    },
    {
      "cell_type": "markdown",
      "source": [
        "A **Precisão** corresponde ao **percentual de objetos positivos sobre o total predito de positivos**."
      ],
      "metadata": {
        "id": "F-vfbdm-RkL3"
      }
    },
    {
      "cell_type": "markdown",
      "source": [
        "## Medida-F ou Score-F"
      ],
      "metadata": {
        "id": "p0ngE54DSeIE"
      }
    },
    {
      "cell_type": "markdown",
      "source": [
        "![image](https://i.imgur.com/Xv5ci0e.png)"
      ],
      "metadata": {
        "id": "Tsj5rkdrTljn"
      }
    },
    {
      "cell_type": "markdown",
      "source": [
        "A **Medida-F** (Score-F) **combina Precisão e Recall** (TVP, Sensibilidade ou Revocação) de modo a trazer um número único que indique a qualidade geral do seu modelo."
      ],
      "metadata": {
        "id": "VjAtjyrjSh7C"
      }
    },
    {
      "cell_type": "markdown",
      "source": [
        "A Medida-F é a média harmônica da precisão e revocação. Como resultado, o classificador só obterá um Score-F alto se ambas as medidas **forem** altas."
      ],
      "metadata": {
        "id": "T_xP4bn_S0MU"
      }
    },
    {
      "cell_type": "markdown",
      "source": [
        "## Curvas ROC"
      ],
      "metadata": {
        "id": "oaZc3gl6T45b"
      }
    },
    {
      "cell_type": "markdown",
      "source": [
        "![image](https://i.imgur.com/EWGTSzu.png)"
      ],
      "metadata": {
        "id": "aRwCMn-BVJcX"
      }
    },
    {
      "cell_type": "markdown",
      "source": [
        "As curvas **ROC** (Receiver operating characteristic) constituem uma ferramenta gráfica para avaliar o desempenho de diferentes classificadores aplicados ao mesmo problema."
      ],
      "metadata": {
        "id": "dPSM5CGWT8fq"
      }
    },
    {
      "cell_type": "markdown",
      "source": [
        "A Curva ROC contrasta os benefícios de uma classificação correta (**TVP**) e o Custo de uma classificação incorreta (**TFP**)."
      ],
      "metadata": {
        "id": "5oH5m-n2UGlQ"
      }
    }
  ]
}