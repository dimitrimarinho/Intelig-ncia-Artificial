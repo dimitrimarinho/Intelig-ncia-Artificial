{
  "cells": [
    {
      "cell_type": "markdown",
      "metadata": {
        "id": "DEB-Ccg_ZTLc"
      },
      "source": [
        "# Capítulo 10 – Introdução às Redes Neurais Artificiais com Keras"
      ]
    },
    {
      "cell_type": "markdown",
      "metadata": {
        "id": "QephbD3yZWI7"
      },
      "source": [
        "## Configuração"
      ]
    },
    {
      "cell_type": "code",
      "execution_count": 5,
      "metadata": {
        "id": "4g3huB3zZaOq"
      },
      "outputs": [
        {
          "ename": "ModuleNotFoundError",
          "evalue": "No module named 'tensorflow'",
          "output_type": "error",
          "traceback": [
            "\u001b[1;31m---------------------------------------------------------------------------\u001b[0m",
            "\u001b[1;31mModuleNotFoundError\u001b[0m                       Traceback (most recent call last)",
            "\u001b[1;32m~\\AppData\\Local\\Temp/ipykernel_19176/3800657429.py\u001b[0m in \u001b[0;36m<module>\u001b[1;34m\u001b[0m\n\u001b[0;32m      1\u001b[0m \u001b[1;31m# TensorFlow ≥2.0 is required\u001b[0m\u001b[1;33m\u001b[0m\u001b[1;33m\u001b[0m\u001b[1;33m\u001b[0m\u001b[0m\n\u001b[1;32m----> 2\u001b[1;33m \u001b[1;32mimport\u001b[0m \u001b[0mtensorflow\u001b[0m \u001b[1;32mas\u001b[0m \u001b[0mtf\u001b[0m\u001b[1;33m\u001b[0m\u001b[1;33m\u001b[0m\u001b[0m\n\u001b[0m\u001b[0;32m      3\u001b[0m \u001b[1;33m\u001b[0m\u001b[0m\n\u001b[0;32m      4\u001b[0m \u001b[1;31m# Importações comuns\u001b[0m\u001b[1;33m\u001b[0m\u001b[1;33m\u001b[0m\u001b[1;33m\u001b[0m\u001b[0m\n\u001b[0;32m      5\u001b[0m \u001b[1;32mimport\u001b[0m \u001b[0mnumpy\u001b[0m \u001b[1;32mas\u001b[0m \u001b[0mnp\u001b[0m\u001b[1;33m\u001b[0m\u001b[1;33m\u001b[0m\u001b[0m\n",
            "\u001b[1;31mModuleNotFoundError\u001b[0m: No module named 'tensorflow'"
          ]
        }
      ],
      "source": [
        "# TensorFlow ≥2.0 is required\n",
        "import tensorflow as tf\n",
        "\n",
        "# Importações comuns\n",
        "import numpy as np\n",
        "import os\n",
        "\n",
        "# para fazer esse notebook ter resultados repetíveis\n",
        "np.random.seed(42)\n",
        "\n",
        "# para plotar figuras\n",
        "%matplotlib inline\n",
        "import matplotlib as mpl\n",
        "import matplotlib.pyplot as plt\n",
        "mpl.rc('axes', labelsize=14)\n",
        "mpl.rc('xtick', labelsize=12)\n",
        "mpl.rc('ytick', labelsize=12)\n",
        "\n",
        "PROJECT_ROOT_DIR = \".\""
      ]
    },
    {
      "cell_type": "markdown",
      "metadata": {
        "id": "jQuGiw9fZlHz"
      },
      "source": [
        "## Neurônios biológicos"
      ]
    },
    {
      "cell_type": "markdown",
      "metadata": {
        "id": "WtI8MIsdZpjD"
      },
      "source": [
        "Célula encontrada principalmente no córtex cerebral"
      ]
    },
    {
      "cell_type": "markdown",
      "metadata": {
        "id": "cztlzrC3ZqMV"
      },
      "source": [
        "* Composto de um corpo celular contendo o núcleo e a maioria dos componentes complexos da célula e muitas extensões de ramificação chamadas dendritos, além de uma extensão muito longa chamada de axônio\n",
        "\n",
        "* Os terminais sinápticos se conectam aos dendritos de outros neurônios\n",
        "\n",
        "* Recebem sinais pelas sinapses\n",
        "\n",
        "* Os neurônios biológicos recebem curtos impulsos elétricos de outros neurônios através dessas sinapses chamadas sinais.\n",
        "\n",
        "* Quando recebem sinais suficientes eles disparam seus sinais\n",
        "\n",
        "* Quando um neurônio recebe um número suficiente de sinais de outros neurônios em alguns milissegundos, ele dispara seus próprios sinais"
      ]
    },
    {
      "cell_type": "markdown",
      "metadata": {
        "id": "F3KB7ybZbX7m"
      },
      "source": [
        "![image](https://i.imgur.com/iGaody9.png)"
      ]
    },
    {
      "cell_type": "markdown",
      "metadata": {
        "id": "d-qItSLGbcA-"
      },
      "source": [
        "* Neurônios biológicos são organizados em uma rede de bilhões de neurônios conectados\n",
        "\n",
        "* Cálculos altamente complexos podem ser realizados por uma vasta rede de neurônios bem simples, muito parecida com um formigueiro complexo que surge dos esforços combinados de simples formigas.\n",
        "\n",
        "* Algumas partes do cérebro foram mapeadas e parece que os neurônios muitas vezes são organizados em camadas consecutivas, como mostrado na Figura abaixo."
      ]
    },
    {
      "cell_type": "markdown",
      "metadata": {
        "id": "fuUpLocHb8rr"
      },
      "source": [
        "![image](https://i.imgur.com/DG2FTaJ.png)"
      ]
    },
    {
      "cell_type": "markdown",
      "metadata": {
        "id": "eCCL8AJFcD8z"
      },
      "source": [
        "## Perceptrons"
      ]
    },
    {
      "cell_type": "markdown",
      "metadata": {
        "id": "0kj8WHakcHmr"
      },
      "source": [
        "* Inventado em 1957 por Frank Rosenblatt\n",
        "\n",
        "* O Perceptron é uma das mais simples arquiteturas RNA.\n",
        "\n",
        "* Usa um neurônio do tipo Linear Threshold Unit (LTU)"
      ]
    },
    {
      "cell_type": "markdown",
      "metadata": {
        "id": "NqtnzSTQcl9j"
      },
      "source": [
        "![image](https://i.imgur.com/yncrihU.png)"
      ]
    },
    {
      "cell_type": "markdown",
      "metadata": {
        "id": "anowyZcRcorv"
      },
      "source": [
        "A LTU calcula"
      ]
    },
    {
      "cell_type": "markdown",
      "metadata": {
        "id": "HDKDsvt3cpPW"
      },
      "source": [
        "* uma soma ponderada de suas entradas (𝑧 = 𝑤_1 𝑥_1 + 𝑤_2 𝑥_2 + ⋯ + 𝑤_𝑛  𝑥_𝑛 = 𝑤^𝑇. 𝑥)\n",
        "\n",
        "* então aplica uma função degrau a esta soma e gera o resultado ℎ_𝑤 *(𝑥)= 𝑠𝑡𝑒𝑝(𝑧) em que 𝑧 = 𝑤^𝑇\n",
        "\n",
        "* Treinar significa encontrar o pesos ideais."
      ]
    },
    {
      "cell_type": "markdown",
      "metadata": {
        "id": "DLLCnCOidHNV"
      },
      "source": [
        "O Perceptron é composto por uma camada de LTUs como na figura abaixo."
      ]
    },
    {
      "cell_type": "markdown",
      "metadata": {
        "id": "EZLxDcRfdYGj"
      },
      "source": [
        "![image](https://i.imgur.com/tGMF1GX.png)"
      ]
    },
    {
      "cell_type": "markdown",
      "metadata": {
        "id": "dqbZLZ5Zda9C"
      },
      "source": [
        "O Perceptron é treinado com base na regra de Hebb\n"
      ]
    },
    {
      "cell_type": "markdown",
      "metadata": {
        "id": "oru2G2XGdcza"
      },
      "source": [
        "* reforçando conexões que levam a previsões corretas\n",
        "\n",
        "* enfraquecendo conexões que levam a previsões incorretas"
      ]
    },
    {
      "cell_type": "markdown",
      "metadata": {
        "id": "g-5IucXxdiVa"
      },
      "source": [
        "### Experimentando o Perceptron"
      ]
    },
    {
      "cell_type": "markdown",
      "metadata": {
        "id": "Dpj8LYK5dklv"
      },
      "source": [
        "#### O dataset Iris"
      ]
    },
    {
      "cell_type": "markdown",
      "metadata": {
        "id": "FcrRzgq0eX31"
      },
      "source": [
        "![image](https://i.imgur.com/qETsWGF.png)"
      ]
    },
    {
      "cell_type": "code",
      "execution_count": null,
      "metadata": {
        "id": "kwXbMES1d4EU"
      },
      "outputs": [],
      "source": [
        "from sklearn.datasets import load_iris"
      ]
    },
    {
      "cell_type": "markdown",
      "metadata": {
        "id": "2ZDTPaUJd6Wb"
      },
      "source": [
        "Características:"
      ]
    },
    {
      "cell_type": "markdown",
      "metadata": {
        "id": "vD2iXNBbd-2E"
      },
      "source": [
        "* comprimento de sepala em cm\n",
        "\n",
        "* largura de sepala em cm\n",
        "\n",
        "* comprimento de petala em cm\n",
        "\n",
        "* largura de petala em cm "
      ]
    },
    {
      "cell_type": "markdown",
      "metadata": {
        "id": "nrWVux7zeK1I"
      },
      "source": [
        "Classes:"
      ]
    },
    {
      "cell_type": "markdown",
      "metadata": {
        "id": "yC0p6hBPeNB4"
      },
      "source": [
        "* Iris-Setosa\n",
        "\n",
        "* Iris-Versicolour\n",
        "\n",
        "* Iris-Virginica\n"
      ]
    },
    {
      "cell_type": "markdown",
      "metadata": {
        "id": "1tAGQKPYebSF"
      },
      "source": [
        "Número de instâncias = 150 (50 por classe)\n"
      ]
    },
    {
      "cell_type": "code",
      "execution_count": null,
      "metadata": {
        "id": "bk47GLb2edFO"
      },
      "outputs": [],
      "source": [
        "iris = load_iris();"
      ]
    },
    {
      "cell_type": "code",
      "execution_count": null,
      "metadata": {
        "id": "y8SeCmDwegGa"
      },
      "outputs": [],
      "source": [
        "dados = iris[\"data\"];\n",
        "alvos = iris[\"target\"];\n",
        "nomesAlvo = iris[\"target_names\"];\n",
        "nomesCaracteristicas = iris[\"feature_names\"];"
      ]
    },
    {
      "cell_type": "code",
      "execution_count": null,
      "metadata": {
        "colab": {
          "base_uri": "https://localhost:8080/"
        },
        "id": "DbO_0sk7eiz8",
        "outputId": "7a7ff533-3cfb-4085-b459-3aadb5d5bd1c"
      },
      "outputs": [],
      "source": [
        "nomesAlvo"
      ]
    },
    {
      "cell_type": "code",
      "execution_count": null,
      "metadata": {
        "colab": {
          "base_uri": "https://localhost:8080/"
        },
        "id": "Fs4s_lQvelDC",
        "outputId": "4bed78b4-2bd9-40a2-b5b4-170343c597cc"
      },
      "outputs": [],
      "source": [
        "nomesCaracteristicas"
      ]
    },
    {
      "cell_type": "code",
      "execution_count": null,
      "metadata": {
        "colab": {
          "base_uri": "https://localhost:8080/"
        },
        "id": "QInsRwJGerv7",
        "outputId": "2b30ce56-e9d3-4501-ae6b-df3e08becf08"
      },
      "outputs": [],
      "source": [
        "dados"
      ]
    },
    {
      "cell_type": "code",
      "execution_count": null,
      "metadata": {
        "colab": {
          "base_uri": "https://localhost:8080/"
        },
        "id": "IhBWRnjLeuXo",
        "outputId": "c4d04e59-3aa7-48ba-8f82-b3b0dc3d6e99"
      },
      "outputs": [],
      "source": [
        "alvos"
      ]
    },
    {
      "cell_type": "code",
      "execution_count": null,
      "metadata": {
        "colab": {
          "base_uri": "https://localhost:8080/"
        },
        "id": "OQNtmggLexF4",
        "outputId": "d780337b-7f02-46ea-ed38-cbcc0ebb9037"
      },
      "outputs": [],
      "source": [
        "iris"
      ]
    },
    {
      "cell_type": "code",
      "execution_count": null,
      "metadata": {
        "colab": {
          "base_uri": "https://localhost:8080/",
          "height": 341
        },
        "id": "C3jv9JRKeyTB",
        "outputId": "cac2a56b-7f02-4859-91ef-ad421229b765"
      },
      "outputs": [],
      "source": [
        "import matplotlib.pyplot as plt\n",
        "\n",
        "plt.figure(figsize=(10,5))\n",
        "plt.subplot(1, 2, 1)\n",
        "for contador, nome in enumerate(nomesAlvo):\n",
        "  x_plot = dados[ alvos == contador]\n",
        "  plt.plot(x_plot[:,0], x_plot[:,1], linestyle='none', marker='o', label=nome);\n",
        "\n",
        "plt.xlabel(nomesCaracteristicas[0]);\n",
        "plt.ylabel(nomesCaracteristicas[1]);\n",
        "plt.axis('equal');\n",
        "plt.legend();\n",
        "\n",
        "plt.subplot(1, 2, 2)\n",
        "for contador, nome in enumerate(nomesAlvo):\n",
        "  x_plot = dados[ alvos == contador]\n",
        "  plt.plot(x_plot[:,2], x_plot[:,3], linestyle='none', marker='o', label=nome);\n",
        "\n",
        "plt.xlabel(nomesCaracteristicas[2]);\n",
        "plt.ylabel(nomesCaracteristicas[3]);\n",
        "plt.axis('equal');\n",
        "plt.legend();"
      ]
    },
    {
      "cell_type": "markdown",
      "metadata": {
        "id": "u-P-RIlShOIb"
      },
      "source": [
        "#### Classificação Binária"
      ]
    },
    {
      "cell_type": "markdown",
      "metadata": {
        "id": "K9TkF0xBhW_B"
      },
      "source": [
        "Experimentando Perceptron com duas entradas e uma saída (2 Classes)"
      ]
    },
    {
      "cell_type": "code",
      "execution_count": null,
      "metadata": {
        "colab": {
          "base_uri": "https://localhost:8080/"
        },
        "id": "ZkRbANLJhZCh",
        "outputId": "45fb6f9f-eb4c-497d-d067-20a20ef09659"
      },
      "outputs": [],
      "source": [
        "# Vamos simplificar e usar apenas comprimento da pétala e largura da pétala\n",
        "dadosReduzidos = dados[:, (2, 3)] # petal length, petal width\n",
        "dadosReduzidos"
      ]
    },
    {
      "cell_type": "code",
      "execution_count": null,
      "metadata": {
        "colab": {
          "base_uri": "https://localhost:8080/"
        },
        "id": "9OWiKi2ThafK",
        "outputId": "c8c7f2c9-7119-49f9-bb0f-46e5a373b80f"
      },
      "outputs": [],
      "source": [
        "len(dados)"
      ]
    },
    {
      "cell_type": "code",
      "execution_count": null,
      "metadata": {
        "colab": {
          "base_uri": "https://localhost:8080/"
        },
        "id": "s3_PRCfvhcwx",
        "outputId": "c6955b00-91d1-4ce2-f911-0ee5a7984afb"
      },
      "outputs": [],
      "source": [
        "alvos"
      ]
    },
    {
      "cell_type": "code",
      "execution_count": null,
      "metadata": {
        "colab": {
          "base_uri": "https://localhost:8080/"
        },
        "id": "PpxiLfOPhgaB",
        "outputId": "aa19a1a9-122b-4988-8932-994b39884ca4"
      },
      "outputs": [],
      "source": [
        "# Uma LTU só faz classificação binária\n",
        "classeAlvo = 0 # iris setosa\n",
        "alvos == classeAlvo # Iris setosa?"
      ]
    },
    {
      "cell_type": "code",
      "execution_count": null,
      "metadata": {
        "colab": {
          "base_uri": "https://localhost:8080/"
        },
        "id": "KbNkE1ymhilZ",
        "outputId": "6a3a7479-ce26-4ac5-fda0-7e5e08ec64ed"
      },
      "outputs": [],
      "source": [
        "# Conversão de lógico para inteiro (true --> 1; false --> 0)\n",
        "alvoBinario = (alvos == classeAlvo).astype(int) # Iris setosa?\n",
        "alvoBinario"
      ]
    },
    {
      "cell_type": "code",
      "execution_count": null,
      "metadata": {
        "colab": {
          "base_uri": "https://localhost:8080/"
        },
        "id": "0XKNHHqIhmx4",
        "outputId": "23fd07f0-fb5d-460c-ef87-7c318165cb67"
      },
      "outputs": [],
      "source": [
        "# importando e treinando o Perceptron\n",
        "from sklearn.linear_model import Perceptron\n",
        "classificadorPerceptron = Perceptron()\n",
        "classificadorPerceptron.fit(dadosReduzidos, alvoBinario) # atributos de entrada e atributo alvo"
      ]
    },
    {
      "cell_type": "code",
      "execution_count": null,
      "metadata": {
        "colab": {
          "base_uri": "https://localhost:8080/"
        },
        "id": "N2DTIzKMhvjn",
        "outputId": "83dca107-7a1a-4839-ec44-1a9d3334bad8"
      },
      "outputs": [],
      "source": [
        "# Predizendo uma nova amostra (iris setosa)\n",
        "y_pred = classificadorPerceptron.predict([[1.5, 0.5]])\n",
        "if (y_pred):\n",
        "  print (\"iris setosa\")\n",
        "else:\n",
        "  print (\"outra flor\")"
      ]
    },
    {
      "cell_type": "code",
      "execution_count": null,
      "metadata": {
        "colab": {
          "base_uri": "https://localhost:8080/"
        },
        "id": "dw6fb0EJhzZe",
        "outputId": "d51e420a-69b7-44ae-b016-8835baa9b2d0"
      },
      "outputs": [],
      "source": [
        "# Predizendo uma nova amostra (prevendo outra flor)\n",
        "y_pred = classificadorPerceptron.predict([[4, 1]])\n",
        "if (y_pred):\n",
        "  print (\"iris setosa\")\n",
        "else:\n",
        "  print (\"outra flor\")"
      ]
    },
    {
      "cell_type": "markdown",
      "metadata": {
        "id": "EXbszTwBh4eu"
      },
      "source": [
        "Observando a matriz de pesos das conexões de entrada das LTU"
      ]
    },
    {
      "cell_type": "code",
      "execution_count": null,
      "metadata": {
        "colab": {
          "base_uri": "https://localhost:8080/"
        },
        "id": "KoPFd3z7h8B2",
        "outputId": "fc44508b-6235-4623-941e-148d0118d297"
      },
      "outputs": [],
      "source": [
        "classificadorPerceptron.coef_ # matriz de pesos de entrada"
      ]
    },
    {
      "cell_type": "markdown",
      "metadata": {
        "id": "pAvcRJPdh92O"
      },
      "source": [
        "Observando o peso de vies (entre o neuronio de vies e os neuronios LTU)"
      ]
    },
    {
      "cell_type": "code",
      "execution_count": null,
      "metadata": {
        "colab": {
          "base_uri": "https://localhost:8080/"
        },
        "id": "VJdNgEDOiA5O",
        "outputId": "e18f04fd-ad8d-4ffa-ffb1-41cbe78a5cd5"
      },
      "outputs": [],
      "source": [
        "classificadorPerceptron.intercept_ # matriz de pesos de vies"
      ]
    },
    {
      "cell_type": "markdown",
      "metadata": {
        "id": "KJMgFYJhiEfI"
      },
      "source": [
        "Avaliando o Perceptron vendo o score com dados de treino"
      ]
    },
    {
      "cell_type": "code",
      "execution_count": null,
      "metadata": {
        "colab": {
          "base_uri": "https://localhost:8080/"
        },
        "id": "-Lte8HMdiHl9",
        "outputId": "30d15c97-c93b-4226-954b-6445032f6a29"
      },
      "outputs": [],
      "source": [
        "classificadorPerceptron.score(dadosReduzidos,alvoBinario)"
      ]
    },
    {
      "cell_type": "markdown",
      "metadata": {
        "id": "DywYIYK_iMmN"
      },
      "source": [
        "#### Classificação Multiclasse (Multioutput)"
      ]
    },
    {
      "cell_type": "markdown",
      "metadata": {
        "id": "s9amSs0BiPXu"
      },
      "source": [
        "Testando o Perceptron com 2 entradas e 3 saídas (3 classes). Usando apenas comprimento da pétala e largura da pétala\n"
      ]
    },
    {
      "cell_type": "code",
      "execution_count": null,
      "metadata": {
        "colab": {
          "base_uri": "https://localhost:8080/"
        },
        "id": "QqHshPOEiSYc",
        "outputId": "c5acf557-889f-4e25-8393-39600003c73b"
      },
      "outputs": [],
      "source": [
        "np.unique(alvos) # valores unicos da classe alvo"
      ]
    },
    {
      "cell_type": "code",
      "execution_count": null,
      "metadata": {
        "colab": {
          "base_uri": "https://localhost:8080/"
        },
        "id": "re2Qfzuuigl6",
        "outputId": "7ed4abc7-0052-4ec1-815c-5cec8ca7699d"
      },
      "outputs": [],
      "source": [
        "classificadorPerceptron = Perceptron()\n",
        "classificadorPerceptron.fit(dadosReduzidos, alvos)"
      ]
    },
    {
      "cell_type": "code",
      "execution_count": null,
      "metadata": {
        "colab": {
          "base_uri": "https://localhost:8080/"
        },
        "id": "rq9_qcqaijHT",
        "outputId": "375b0a10-d15c-47a3-d29a-d0e47d11def6"
      },
      "outputs": [],
      "source": [
        "# Predizendo uma nova amostra (setosa)\n",
        "y_pred = classificadorPerceptron.predict([[1.5, 0.5]])\n",
        "if (y_pred==0):\n",
        "  print (\"iris setosa\")\n",
        "elif (y_pred==1):\n",
        "  print (\"iris versicolor\")\n",
        "else:\n",
        "  print (\"iris virginica\")"
      ]
    },
    {
      "cell_type": "code",
      "execution_count": null,
      "metadata": {
        "colab": {
          "base_uri": "https://localhost:8080/"
        },
        "id": "QUnyasUPinub",
        "outputId": "0d5af0bb-05ca-4838-c5fa-8007a6c71d44"
      },
      "outputs": [],
      "source": [
        "# Predizendo uma nova amostra (versicolor)\n",
        "y_pred = classificadorPerceptron.predict([[4, 1]])\n",
        "if (y_pred==0):\n",
        "  print (\"iris setosa\")\n",
        "elif (y_pred==1):\n",
        "  print (\"iris versicolor\")\n",
        "else:\n",
        "  print (\"iris virginica\")"
      ]
    },
    {
      "cell_type": "code",
      "execution_count": null,
      "metadata": {
        "colab": {
          "base_uri": "https://localhost:8080/"
        },
        "id": "wVtSYFGSiwDx",
        "outputId": "3d335fed-7de8-45c8-e67a-c1f9ff57374d"
      },
      "outputs": [],
      "source": [
        "# Predizendo uma nova amostra (virginica)\n",
        "y_pred = classificadorPerceptron.predict([[6, 2]])\n",
        "if (y_pred==0):\n",
        "  print (\"iris setosa\")\n",
        "elif (y_pred==1):\n",
        "  print (\"iris versicolor\")\n",
        "else:\n",
        "  print (\"iris virginica\")"
      ]
    },
    {
      "cell_type": "markdown",
      "metadata": {
        "id": "mODBCWRuizr6"
      },
      "source": [
        "Observando a matriz de pesos das conexões de entrada das LTU"
      ]
    },
    {
      "cell_type": "code",
      "execution_count": null,
      "metadata": {
        "colab": {
          "base_uri": "https://localhost:8080/"
        },
        "id": "9eA8Xh74i2Di",
        "outputId": "2e0f4e83-2ad6-45fe-e263-b9ca68abd6e5"
      },
      "outputs": [],
      "source": [
        "classificadorPerceptron.coef_ # 2 entradas, 3 saídas"
      ]
    },
    {
      "cell_type": "markdown",
      "metadata": {
        "id": "QQg5_PZbjKwQ"
      },
      "source": [
        "Observando o peso de vies (entre o neuronio de vies e os neuronios LTU)"
      ]
    },
    {
      "cell_type": "code",
      "execution_count": null,
      "metadata": {
        "colab": {
          "base_uri": "https://localhost:8080/"
        },
        "id": "0XLycebwjRL5",
        "outputId": "3273c99b-7a31-4f1c-9022-40ce4decd77f"
      },
      "outputs": [],
      "source": [
        "classificadorPerceptron.intercept_ # matriz de pesos de vies"
      ]
    },
    {
      "cell_type": "markdown",
      "metadata": {
        "id": "xJiAj402jTSn"
      },
      "source": [
        "Avaliando o Perceptron vendo o score com dados de treino"
      ]
    },
    {
      "cell_type": "code",
      "execution_count": null,
      "metadata": {
        "colab": {
          "base_uri": "https://localhost:8080/"
        },
        "id": "jbWuEaPNjU8w",
        "outputId": "8573c059-06f7-41ff-accf-628248309536"
      },
      "outputs": [],
      "source": [
        "classificadorPerceptron.score(dadosReduzidos,alvos)"
      ]
    },
    {
      "cell_type": "markdown",
      "metadata": {
        "id": "W3LLl_Y-jYJp"
      },
      "source": [
        "#### Atividade"
      ]
    },
    {
      "cell_type": "markdown",
      "metadata": {
        "id": "mNVB93Dgja6-"
      },
      "source": [
        "Testar o Perceptron com 4 entradas e 3 saídas.\n"
      ]
    },
    {
      "cell_type": "markdown",
      "metadata": {
        "id": "HSf-t8fpB7Bb"
      },
      "source": [
        "#### Resposta: 4 entradas e 3 saídas"
      ]
    },
    {
      "cell_type": "code",
      "execution_count": null,
      "metadata": {
        "colab": {
          "base_uri": "https://localhost:8080/"
        },
        "id": "eMfzXEIcCK5b",
        "outputId": "bf58fb1a-0256-4637-d8b2-a679330b3c7f"
      },
      "outputs": [],
      "source": [
        "dados.shape"
      ]
    },
    {
      "cell_type": "code",
      "execution_count": null,
      "metadata": {
        "colab": {
          "base_uri": "https://localhost:8080/"
        },
        "id": "_GiF6sM3DMuC",
        "outputId": "a033f8fd-955b-4eab-e3ea-143f424080d6"
      },
      "outputs": [],
      "source": [
        "# importando e treinando\n",
        "per_clf = Perceptron()\n",
        "per_clf.fit(dados, alvos) "
      ]
    },
    {
      "cell_type": "markdown",
      "metadata": {
        "id": "JFfMPjpPDdBx"
      },
      "source": [
        "### Problemas com o Perceptron "
      ]
    },
    {
      "cell_type": "markdown",
      "metadata": {
        "id": "gNjAK_6oEPoQ"
      },
      "source": [
        "Em 1969, Marvin Minsky e Seymour Papert destacaram um número de sérias fraquezas dos Perceptrons, em particular o fato de serem incapazes de resolver alguns problemas triviais (por exemplo, o problema de classificação Exclusive OR (XOR).\n"
      ]
    },
    {
      "cell_type": "markdown",
      "metadata": {
        "id": "xHwitmagEdG5"
      },
      "source": [
        "*   Isso é verdade para qualquer outro modelo de classificação linear (como classificadores de regressão logística), mas os pesquisadores esperavam muito mais dos Perceptrons, e alguns ficaram tão desapontados que abandonaram as redes neurais completamente em favor de problemas de nível superior, como lógica, resolução de problemas e pesquisa. \n",
        "\n",
        "\n",
        "*   Começou um inverno de IA \n",
        "\n"
      ]
    },
    {
      "cell_type": "markdown",
      "metadata": {
        "id": "IeO9sauME84c"
      },
      "source": [
        "A tabela verdade do XOR "
      ]
    },
    {
      "cell_type": "markdown",
      "metadata": {
        "id": "n5ay9Ai7GdqL"
      },
      "source": [
        "![image](https://i.imgur.com/XI5Hpli.png)"
      ]
    },
    {
      "cell_type": "markdown",
      "metadata": {
        "id": "tHc7aNFqGjt7"
      },
      "source": [
        "Os cientistas preferiram se concentrar em outros classificadores como o SVM."
      ]
    },
    {
      "cell_type": "code",
      "execution_count": null,
      "metadata": {
        "colab": {
          "base_uri": "https://localhost:8080/"
        },
        "id": "9e5iv1cDG0F6",
        "outputId": "f7ae8663-eb20-43ea-829b-61625d9355f7"
      },
      "outputs": [],
      "source": [
        "# os cientistas preferiram se concentrar em outros classificadores como o SVM\n",
        "from sklearn.pipeline import make_pipeline\n",
        "from sklearn.preprocessing import StandardScaler\n",
        "from sklearn.svm import SVC # support vector classifier\n",
        "from sklearn.svm import LinearSVC\n",
        "clf = make_pipeline(StandardScaler(), SVC(gamma='auto'))\n",
        "clf.fit(dados, alvos) "
      ]
    },
    {
      "cell_type": "code",
      "execution_count": null,
      "metadata": {
        "colab": {
          "base_uri": "https://localhost:8080/"
        },
        "id": "xDvePfeRIToR",
        "outputId": "6dc6cd75-e4c2-4ed7-c414-9c93077b7b24"
      },
      "outputs": [],
      "source": [
        "clf.score(dados,alvos) "
      ]
    },
    {
      "cell_type": "markdown",
      "metadata": {
        "id": "GOtb1odIIYCk"
      },
      "source": [
        "### O perceptron multicamadas (rede neural) "
      ]
    },
    {
      "cell_type": "markdown",
      "metadata": {
        "id": "OFTSMwkjIeeX"
      },
      "source": [
        "Entretanto, algumas das suas limitações podem ser eliminadas ao empilharmos vários Perceptrons. A RNA resultante é chamada de Perceptron Multicamada (MLP). Em particular, como você pode verificar, a MLP pode resolver o problema XOR calculando a saída MLP representada à direita da Figura abaixo. "
      ]
    },
    {
      "cell_type": "markdown",
      "metadata": {
        "id": "25mLgwLjKRSe"
      },
      "source": [
        "![image](https://i.imgur.com/rNruRZ9.png)"
      ]
    },
    {
      "cell_type": "markdown",
      "metadata": {
        "id": "z8n3_ZCzKUUf"
      },
      "source": [
        "![image](https://i.imgur.com/Gayj1Fo.png)"
      ]
    },
    {
      "cell_type": "markdown",
      "metadata": {
        "id": "6dviwn5fK25l"
      },
      "source": [
        "## Outras funções de ativação "
      ]
    },
    {
      "cell_type": "markdown",
      "metadata": {
        "id": "IYGWYAF7LE5W"
      },
      "source": [
        "A função Step não tem derivada, então ela limitava o Perceptron. Outras funções podem lidar com problemas não lineares."
      ]
    },
    {
      "cell_type": "markdown",
      "metadata": {
        "id": "tkkK7c4mMJkZ"
      },
      "source": [
        "![image](https://i.imgur.com/OTFyxqA.png)"
      ]
    },
    {
      "cell_type": "markdown",
      "metadata": {
        "id": "DI8S-AMkMxx5"
      },
      "source": [
        "### Experimentando Rede Neural (antes de maiores detalhes) "
      ]
    },
    {
      "cell_type": "code",
      "execution_count": null,
      "metadata": {
        "id": "_H7FkZWvM5WB"
      },
      "outputs": [],
      "source": [
        "import tensorflow\n",
        "from tensorflow import keras"
      ]
    },
    {
      "cell_type": "code",
      "execution_count": null,
      "metadata": {
        "id": "0Av6vMHqN_-_"
      },
      "outputs": [],
      "source": [
        "dados = iris[\"data\"];\n",
        "alvos = iris[\"target\"];\n",
        "nomesAlvo = iris[\"target_names\"];\n",
        "nomesCaracteristicas = iris[\"feature_names\"];"
      ]
    },
    {
      "cell_type": "code",
      "execution_count": null,
      "metadata": {
        "id": "DUqZ2W6QOM9l"
      },
      "outputs": [],
      "source": [
        "qtd_saida = len(nomesAlvo); # numero de classes\n",
        "qtd_entrada = len(nomesCaracteristicas);  # numero de caracteristicas "
      ]
    },
    {
      "cell_type": "code",
      "execution_count": null,
      "metadata": {
        "id": "JuboS8hdPAww"
      },
      "outputs": [],
      "source": [
        "# Escalonando as características\n",
        "scaler = StandardScaler()\n",
        "X_scaled = scaler.fit_transform(dados) "
      ]
    },
    {
      "cell_type": "code",
      "execution_count": null,
      "metadata": {
        "id": "-x6ajY-yQtYw"
      },
      "outputs": [],
      "source": [
        "# dividindo o conjunto de treinamento e teste\n",
        "from sklearn.model_selection import train_test_split\n",
        "X_train, X_test, y_train, y_test = train_test_split(X_scaled, alvos, test_size=0.33, random_state=42)"
      ]
    },
    {
      "cell_type": "code",
      "execution_count": null,
      "metadata": {
        "id": "U6l5LWJRT6Y0"
      },
      "outputs": [],
      "source": [
        "# Definindo a arquitetura da rede MLP \n",
        "# Unidades de saída, unidades de entrada, função de ativação \n",
        "modelo = keras.Sequential([\n",
        "  keras.layers.Dense(16, input_dim=qtd_entrada, activation='relu'),\n",
        "  keras.layers.Dense(qtd_saida, activation='softmax')\n",
        "])"
      ]
    },
    {
      "cell_type": "code",
      "execution_count": null,
      "metadata": {
        "colab": {
          "base_uri": "https://localhost:8080/"
        },
        "id": "_9AQSS3lUQqo",
        "outputId": "e0149d2e-568b-4868-9ac9-09c889a51c54"
      },
      "outputs": [],
      "source": [
        "modelo.summary() "
      ]
    },
    {
      "cell_type": "markdown",
      "metadata": {
        "id": "m2emaPrJVkyr"
      },
      "source": [
        "#### Outra forma de construir o modelo "
      ]
    },
    {
      "cell_type": "code",
      "execution_count": null,
      "metadata": {
        "id": "rILzNTtZVl_z"
      },
      "outputs": [],
      "source": [
        "# Definindo a arquitetura da rede MLP\n",
        "# Unidades de saída, unidades de entrada, função de ativação\n",
        "modelo = keras.Sequential(name ='modelo1')\n",
        "modelo.add(keras.layers.Dense(8, input_dim=qtd_entrada,activation='relu'))\n",
        "modelo.add(keras.layers.Dense(qtd_saida, activation='softmax')) "
      ]
    },
    {
      "cell_type": "code",
      "execution_count": null,
      "metadata": {
        "id": "0lai0n9QWCKu"
      },
      "outputs": [],
      "source": [
        "modelo.compile(loss='sparse_categorical_crossentropy',\n",
        "  optimizer=\"sgd\",\n",
        "  metrics=['accuracy']\n",
        ") "
      ]
    },
    {
      "cell_type": "markdown",
      "metadata": {
        "id": "3Ph2_bjPWP0K"
      },
      "source": [
        "**Em Keras os argumentos de configuração importantes são os seguintes:**"
      ]
    },
    {
      "cell_type": "markdown",
      "metadata": {
        "id": "pwVRxG2HWZcN"
      },
      "source": [
        "* **Número de neurônios/unidades na camada**  "
      ]
    },
    {
      "cell_type": "markdown",
      "metadata": {
        "id": "g7FcBcy8WnqQ"
      },
      "source": [
        "* **Função de ativação** (activation) - a função de ativação é uma função especial usada para descobrir se um neurônio específico está ativado ou não. Basicamente, a função de ativação faz uma transformação não linear dos dados de entrada e, assim, permite que os neurônios aprendam melhor. A saída de um neurônio depende da função de ativação (*relu*, *sigmoid*, *tanh*, *exponential*, *softmax*)."
      ]
    },
    {
      "cell_type": "markdown",
      "metadata": {
        "id": "9LUB_PWEXmHl"
      },
      "source": [
        "* **Função de Perda (loss)** - a função Loss é usada para encontrar erros ou desvios no processo de aprendizado (*mean_squared_error*, *mean_absolute_error*, *categorical_crossentropy*, *sparse_categorical_crossentropy*, *binary_crossentropy*)"
      ]
    },
    {
      "cell_type": "markdown",
      "metadata": {
        "id": "FKC0DvOzZBcS"
      },
      "source": [
        "* **Otimizador (optimizer)** - a otimização é um processo importante que otimiza os pesos de entrada comparando a previsão e a função de perda (*sgd*, *rmsprop*, *adagrad*, *adadelta*, *adam*, *adamax*, *nadam*). "
      ]
    },
    {
      "cell_type": "markdown",
      "metadata": {
        "id": "nnbmwgJ7ZWbs"
      },
      "source": [
        "* **Métricas (metrics)** - as métricas são usadas para avaliar o desempenho do seu modelo. É semelhante à função de perda, mas não é usada no processo de treinamento (*accuracy*, *binary_accuracy*, *categorical_accuracy*, *sparse_categorical_accuracy*). "
      ]
    },
    {
      "cell_type": "markdown",
      "metadata": {
        "id": "4A6WbzleZxGf"
      },
      "source": [
        "**Observação**"
      ]
    },
    {
      "cell_type": "markdown",
      "metadata": {
        "id": "3sZzG5LNZ0cQ"
      },
      "source": [
        "* Se estivéssemos fazendo **classificação binária** (com um ou mais rótulos binários), usaríamos a função de ativação \"**sigmoid**\" (ou seja, logística) na camada de saída e usaríamos a função de perda \"**binary_crossentropy**\". "
      ]
    },
    {
      "cell_type": "markdown",
      "metadata": {
        "id": "yJaG18bcaE-V"
      },
      "source": [
        "* Se estivéssemos fazendo **classificação multiclasse**, usaríamos a função de ativação \"**softmax**” e a função de perda \"**sparse_categorical_crossentropy**' ou \"**categorical_crossentropy**’. "
      ]
    },
    {
      "cell_type": "markdown",
      "metadata": {
        "id": "0hyLm5QAad4J"
      },
      "source": [
        "* Usamos a função de perda \"**sparse_categorical_crossentropy**\" porque temos rótulos esparsos (ou seja, para cada instância, há apenas um índice de classe de destino, de 0 a 2 neste caso), e as **classes são exclusivas**. "
      ]
    },
    {
      "cell_type": "markdown",
      "metadata": {
        "id": "OWbZMFePay0n"
      },
      "source": [
        "* Se, em vez disso, tivéssemos uma probabilidade alvo por classe para cada instância (como vetores one-hot, por exemplo, [0., 0., 1.] para representar a classe 3), então precisaríamos usar a função de perda “**categorical_crossentropy**”. "
      ]
    }
  ],
  "metadata": {
    "colab": {
      "provenance": []
    },
    "kernelspec": {
      "display_name": "Python 3.9.6 64-bit",
      "language": "python",
      "name": "python3"
    },
    "language_info": {
      "codemirror_mode": {
        "name": "ipython",
        "version": 3
      },
      "file_extension": ".py",
      "mimetype": "text/x-python",
      "name": "python",
      "nbconvert_exporter": "python",
      "pygments_lexer": "ipython3",
      "version": "3.9.6"
    },
    "vscode": {
      "interpreter": {
        "hash": "fb99ee830ce9c7c93927d3c75bb4a6455408721208ae32c0edd3ea703ce71ca9"
      }
    }
  },
  "nbformat": 4,
  "nbformat_minor": 0
}
