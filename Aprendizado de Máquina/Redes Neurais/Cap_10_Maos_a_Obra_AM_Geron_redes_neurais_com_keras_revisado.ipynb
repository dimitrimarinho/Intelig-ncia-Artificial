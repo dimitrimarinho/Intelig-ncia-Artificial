{
  "nbformat": 4,
  "nbformat_minor": 0,
  "metadata": {
    "colab": {
      "provenance": []
    },
    "kernelspec": {
      "name": "python3",
      "display_name": "Python 3"
    },
    "language_info": {
      "name": "python"
    }
  },
  "cells": [
    {
      "cell_type": "markdown",
      "source": [
        "# Capítulo 10 – Introdução às Redes Neurais Artificiais com Keras"
      ],
      "metadata": {
        "id": "DEB-Ccg_ZTLc"
      }
    },
    {
      "cell_type": "markdown",
      "source": [
        "#### Estes códigos foram reproduzidos no Google Colab (recomenda-se o uso do Google Colab para reprodução integal)"
      ],
      "metadata": {
        "id": "D2C4__VOigV7"
      }
    },
    {
      "cell_type": "markdown",
      "source": [
        "## Configuração"
      ],
      "metadata": {
        "id": "QephbD3yZWI7"
      }
    },
    {
      "cell_type": "code",
      "source": [
        "# TensorFlow ≥2.0 is required\n",
        "import tensorflow as tf\n",
        "\n",
        "# Importações comuns\n",
        "import numpy as np\n",
        "import os\n",
        "\n",
        "# para fazer esse notebook ter resultados repetíveis\n",
        "np.random.seed(42)\n",
        "\n",
        "# para plotar figuras\n",
        "%matplotlib inline\n",
        "import matplotlib as mpl\n",
        "import matplotlib.pyplot as plt\n",
        "mpl.rc('axes', labelsize=14)\n",
        "mpl.rc('xtick', labelsize=12)\n",
        "mpl.rc('ytick', labelsize=12)\n",
        "\n",
        "PROJECT_ROOT_DIR = \".\""
      ],
      "metadata": {
        "id": "4g3huB3zZaOq"
      },
      "execution_count": 94,
      "outputs": []
    },
    {
      "cell_type": "markdown",
      "source": [
        "## Neurônios biológicos"
      ],
      "metadata": {
        "id": "jQuGiw9fZlHz"
      }
    },
    {
      "cell_type": "markdown",
      "source": [
        "Célula encontrada principalmente no córtex cerebral"
      ],
      "metadata": {
        "id": "WtI8MIsdZpjD"
      }
    },
    {
      "cell_type": "markdown",
      "source": [
        "* Composto de um corpo celular contendo o núcleo e a maioria dos componentes complexos da célula e muitas extensões de ramificação chamadas dendritos, além de uma extensão muito longa chamada de axônio\n",
        "\n",
        "* Os terminais sinápticos se conectam aos dendritos de outros neurônios\n",
        "\n",
        "* Recebem sinais pelas sinapses\n",
        "\n",
        "* Os neurônios biológicos recebem curtos impulsos elétricos de outros neurônios através dessas sinapses chamadas sinais.\n",
        "\n",
        "* Quando recebem sinais suficientes eles disparam seus sinais\n",
        "\n",
        "* Quando um neurônio recebe um número suficiente de sinais de outros neurônios em alguns milissegundos, ele dispara seus próprios sinais"
      ],
      "metadata": {
        "id": "cztlzrC3ZqMV"
      }
    },
    {
      "cell_type": "markdown",
      "source": [
        "![image](https://i.imgur.com/iGaody9.png)"
      ],
      "metadata": {
        "id": "F3KB7ybZbX7m"
      }
    },
    {
      "cell_type": "markdown",
      "source": [
        "* Neurônios biológicos são organizados em uma rede de bilhões de neurônios conectados\n",
        "\n",
        "* Cálculos altamente complexos podem ser realizados por uma vasta rede de neurônios bem simples, muito parecida com um formigueiro complexo que surge dos esforços combinados de simples formigas.\n",
        "\n",
        "* Algumas partes do cérebro foram mapeadas e parece que os neurônios muitas vezes são organizados em camadas consecutivas, como mostrado na Figura abaixo."
      ],
      "metadata": {
        "id": "d-qItSLGbcA-"
      }
    },
    {
      "cell_type": "markdown",
      "source": [
        "![image](https://i.imgur.com/DG2FTaJ.png)"
      ],
      "metadata": {
        "id": "fuUpLocHb8rr"
      }
    },
    {
      "cell_type": "markdown",
      "source": [
        "## Perceptrons"
      ],
      "metadata": {
        "id": "eCCL8AJFcD8z"
      }
    },
    {
      "cell_type": "markdown",
      "source": [
        "* Inventado em 1957 por Frank Rosenblatt\n",
        "\n",
        "* O Perceptron é uma das mais simples arquiteturas RNA.\n",
        "\n",
        "* Usa um neurônio do tipo Linear Threshold Unit (LTU)"
      ],
      "metadata": {
        "id": "0kj8WHakcHmr"
      }
    },
    {
      "cell_type": "markdown",
      "source": [
        "![image](https://i.imgur.com/yncrihU.png)"
      ],
      "metadata": {
        "id": "NqtnzSTQcl9j"
      }
    },
    {
      "cell_type": "markdown",
      "source": [
        "A LTU calcula"
      ],
      "metadata": {
        "id": "anowyZcRcorv"
      }
    },
    {
      "cell_type": "markdown",
      "source": [
        "* uma soma ponderada de suas entradas (𝑧 = 𝑤_1 𝑥_1 + 𝑤_2 𝑥_2 + ⋯ + 𝑤_𝑛  𝑥_𝑛 = 𝑤^𝑇. 𝑥)\n",
        "\n",
        "* então aplica uma função degrau a esta soma e gera o resultado ℎ_𝑤 *(𝑥)= 𝑠𝑡𝑒𝑝(𝑧) em que 𝑧 = 𝑤^𝑇\n",
        "\n",
        "* Treinar significa encontrar o pesos ideais."
      ],
      "metadata": {
        "id": "HDKDsvt3cpPW"
      }
    },
    {
      "cell_type": "markdown",
      "source": [
        "O Perceptron é composto por uma camada de LTUs como na figura abaixo."
      ],
      "metadata": {
        "id": "DLLCnCOidHNV"
      }
    },
    {
      "cell_type": "markdown",
      "source": [
        "![image](https://i.imgur.com/tGMF1GX.png)"
      ],
      "metadata": {
        "id": "EZLxDcRfdYGj"
      }
    },
    {
      "cell_type": "markdown",
      "source": [
        "O Perceptron é treinado com base na regra de Hebb\n"
      ],
      "metadata": {
        "id": "dqbZLZ5Zda9C"
      }
    },
    {
      "cell_type": "markdown",
      "source": [
        "* reforçando conexões que levam a previsões corretas\n",
        "\n",
        "* enfraquecendo conexões que levam a previsões incorretas"
      ],
      "metadata": {
        "id": "oru2G2XGdcza"
      }
    },
    {
      "cell_type": "markdown",
      "source": [
        "### Experimentando o Perceptron"
      ],
      "metadata": {
        "id": "g-5IucXxdiVa"
      }
    },
    {
      "cell_type": "markdown",
      "source": [
        "#### O dataset Iris"
      ],
      "metadata": {
        "id": "Dpj8LYK5dklv"
      }
    },
    {
      "cell_type": "markdown",
      "source": [
        "![image](https://i.imgur.com/qETsWGF.png)"
      ],
      "metadata": {
        "id": "FcrRzgq0eX31"
      }
    },
    {
      "cell_type": "code",
      "source": [
        "from sklearn.datasets import load_iris"
      ],
      "metadata": {
        "id": "kwXbMES1d4EU"
      },
      "execution_count": 95,
      "outputs": []
    },
    {
      "cell_type": "markdown",
      "source": [
        "Características:"
      ],
      "metadata": {
        "id": "2ZDTPaUJd6Wb"
      }
    },
    {
      "cell_type": "markdown",
      "source": [
        "* comprimento de sepala em cm\n",
        "\n",
        "* largura de sepala em cm\n",
        "\n",
        "* comprimento de petala em cm\n",
        "\n",
        "* largura de petala em cm "
      ],
      "metadata": {
        "id": "vD2iXNBbd-2E"
      }
    },
    {
      "cell_type": "markdown",
      "source": [
        "Classes:"
      ],
      "metadata": {
        "id": "nrWVux7zeK1I"
      }
    },
    {
      "cell_type": "markdown",
      "source": [
        "* Iris-Setosa\n",
        "\n",
        "* Iris-Versicolour\n",
        "\n",
        "* Iris-Virginica\n"
      ],
      "metadata": {
        "id": "yC0p6hBPeNB4"
      }
    },
    {
      "cell_type": "markdown",
      "source": [
        "Número de instâncias = 150 (50 por classe)\n"
      ],
      "metadata": {
        "id": "1tAGQKPYebSF"
      }
    },
    {
      "cell_type": "code",
      "source": [
        "iris = load_iris();"
      ],
      "metadata": {
        "id": "bk47GLb2edFO"
      },
      "execution_count": 96,
      "outputs": []
    },
    {
      "cell_type": "code",
      "source": [
        "dados = iris[\"data\"];\n",
        "alvos = iris[\"target\"];\n",
        "nomesAlvo = iris[\"target_names\"];\n",
        "nomesCaracteristicas = iris[\"feature_names\"];"
      ],
      "metadata": {
        "id": "y8SeCmDwegGa"
      },
      "execution_count": 97,
      "outputs": []
    },
    {
      "cell_type": "code",
      "source": [
        "nomesAlvo"
      ],
      "metadata": {
        "colab": {
          "base_uri": "https://localhost:8080/"
        },
        "id": "DbO_0sk7eiz8",
        "outputId": "41398e6d-313a-4951-8701-89c8eebab7b7"
      },
      "execution_count": 98,
      "outputs": [
        {
          "output_type": "execute_result",
          "data": {
            "text/plain": [
              "array(['setosa', 'versicolor', 'virginica'], dtype='<U10')"
            ]
          },
          "metadata": {},
          "execution_count": 98
        }
      ]
    },
    {
      "cell_type": "code",
      "source": [
        "nomesCaracteristicas"
      ],
      "metadata": {
        "colab": {
          "base_uri": "https://localhost:8080/"
        },
        "id": "Fs4s_lQvelDC",
        "outputId": "46d9d9a4-b49e-4ca4-dcbc-458cfd7f9ab3"
      },
      "execution_count": 99,
      "outputs": [
        {
          "output_type": "execute_result",
          "data": {
            "text/plain": [
              "['sepal length (cm)',\n",
              " 'sepal width (cm)',\n",
              " 'petal length (cm)',\n",
              " 'petal width (cm)']"
            ]
          },
          "metadata": {},
          "execution_count": 99
        }
      ]
    },
    {
      "cell_type": "code",
      "source": [
        "dados"
      ],
      "metadata": {
        "colab": {
          "base_uri": "https://localhost:8080/"
        },
        "id": "QInsRwJGerv7",
        "outputId": "db243c93-207b-4051-e9f4-9edf02daa443"
      },
      "execution_count": 100,
      "outputs": [
        {
          "output_type": "execute_result",
          "data": {
            "text/plain": [
              "array([[5.1, 3.5, 1.4, 0.2],\n",
              "       [4.9, 3. , 1.4, 0.2],\n",
              "       [4.7, 3.2, 1.3, 0.2],\n",
              "       [4.6, 3.1, 1.5, 0.2],\n",
              "       [5. , 3.6, 1.4, 0.2],\n",
              "       [5.4, 3.9, 1.7, 0.4],\n",
              "       [4.6, 3.4, 1.4, 0.3],\n",
              "       [5. , 3.4, 1.5, 0.2],\n",
              "       [4.4, 2.9, 1.4, 0.2],\n",
              "       [4.9, 3.1, 1.5, 0.1],\n",
              "       [5.4, 3.7, 1.5, 0.2],\n",
              "       [4.8, 3.4, 1.6, 0.2],\n",
              "       [4.8, 3. , 1.4, 0.1],\n",
              "       [4.3, 3. , 1.1, 0.1],\n",
              "       [5.8, 4. , 1.2, 0.2],\n",
              "       [5.7, 4.4, 1.5, 0.4],\n",
              "       [5.4, 3.9, 1.3, 0.4],\n",
              "       [5.1, 3.5, 1.4, 0.3],\n",
              "       [5.7, 3.8, 1.7, 0.3],\n",
              "       [5.1, 3.8, 1.5, 0.3],\n",
              "       [5.4, 3.4, 1.7, 0.2],\n",
              "       [5.1, 3.7, 1.5, 0.4],\n",
              "       [4.6, 3.6, 1. , 0.2],\n",
              "       [5.1, 3.3, 1.7, 0.5],\n",
              "       [4.8, 3.4, 1.9, 0.2],\n",
              "       [5. , 3. , 1.6, 0.2],\n",
              "       [5. , 3.4, 1.6, 0.4],\n",
              "       [5.2, 3.5, 1.5, 0.2],\n",
              "       [5.2, 3.4, 1.4, 0.2],\n",
              "       [4.7, 3.2, 1.6, 0.2],\n",
              "       [4.8, 3.1, 1.6, 0.2],\n",
              "       [5.4, 3.4, 1.5, 0.4],\n",
              "       [5.2, 4.1, 1.5, 0.1],\n",
              "       [5.5, 4.2, 1.4, 0.2],\n",
              "       [4.9, 3.1, 1.5, 0.2],\n",
              "       [5. , 3.2, 1.2, 0.2],\n",
              "       [5.5, 3.5, 1.3, 0.2],\n",
              "       [4.9, 3.6, 1.4, 0.1],\n",
              "       [4.4, 3. , 1.3, 0.2],\n",
              "       [5.1, 3.4, 1.5, 0.2],\n",
              "       [5. , 3.5, 1.3, 0.3],\n",
              "       [4.5, 2.3, 1.3, 0.3],\n",
              "       [4.4, 3.2, 1.3, 0.2],\n",
              "       [5. , 3.5, 1.6, 0.6],\n",
              "       [5.1, 3.8, 1.9, 0.4],\n",
              "       [4.8, 3. , 1.4, 0.3],\n",
              "       [5.1, 3.8, 1.6, 0.2],\n",
              "       [4.6, 3.2, 1.4, 0.2],\n",
              "       [5.3, 3.7, 1.5, 0.2],\n",
              "       [5. , 3.3, 1.4, 0.2],\n",
              "       [7. , 3.2, 4.7, 1.4],\n",
              "       [6.4, 3.2, 4.5, 1.5],\n",
              "       [6.9, 3.1, 4.9, 1.5],\n",
              "       [5.5, 2.3, 4. , 1.3],\n",
              "       [6.5, 2.8, 4.6, 1.5],\n",
              "       [5.7, 2.8, 4.5, 1.3],\n",
              "       [6.3, 3.3, 4.7, 1.6],\n",
              "       [4.9, 2.4, 3.3, 1. ],\n",
              "       [6.6, 2.9, 4.6, 1.3],\n",
              "       [5.2, 2.7, 3.9, 1.4],\n",
              "       [5. , 2. , 3.5, 1. ],\n",
              "       [5.9, 3. , 4.2, 1.5],\n",
              "       [6. , 2.2, 4. , 1. ],\n",
              "       [6.1, 2.9, 4.7, 1.4],\n",
              "       [5.6, 2.9, 3.6, 1.3],\n",
              "       [6.7, 3.1, 4.4, 1.4],\n",
              "       [5.6, 3. , 4.5, 1.5],\n",
              "       [5.8, 2.7, 4.1, 1. ],\n",
              "       [6.2, 2.2, 4.5, 1.5],\n",
              "       [5.6, 2.5, 3.9, 1.1],\n",
              "       [5.9, 3.2, 4.8, 1.8],\n",
              "       [6.1, 2.8, 4. , 1.3],\n",
              "       [6.3, 2.5, 4.9, 1.5],\n",
              "       [6.1, 2.8, 4.7, 1.2],\n",
              "       [6.4, 2.9, 4.3, 1.3],\n",
              "       [6.6, 3. , 4.4, 1.4],\n",
              "       [6.8, 2.8, 4.8, 1.4],\n",
              "       [6.7, 3. , 5. , 1.7],\n",
              "       [6. , 2.9, 4.5, 1.5],\n",
              "       [5.7, 2.6, 3.5, 1. ],\n",
              "       [5.5, 2.4, 3.8, 1.1],\n",
              "       [5.5, 2.4, 3.7, 1. ],\n",
              "       [5.8, 2.7, 3.9, 1.2],\n",
              "       [6. , 2.7, 5.1, 1.6],\n",
              "       [5.4, 3. , 4.5, 1.5],\n",
              "       [6. , 3.4, 4.5, 1.6],\n",
              "       [6.7, 3.1, 4.7, 1.5],\n",
              "       [6.3, 2.3, 4.4, 1.3],\n",
              "       [5.6, 3. , 4.1, 1.3],\n",
              "       [5.5, 2.5, 4. , 1.3],\n",
              "       [5.5, 2.6, 4.4, 1.2],\n",
              "       [6.1, 3. , 4.6, 1.4],\n",
              "       [5.8, 2.6, 4. , 1.2],\n",
              "       [5. , 2.3, 3.3, 1. ],\n",
              "       [5.6, 2.7, 4.2, 1.3],\n",
              "       [5.7, 3. , 4.2, 1.2],\n",
              "       [5.7, 2.9, 4.2, 1.3],\n",
              "       [6.2, 2.9, 4.3, 1.3],\n",
              "       [5.1, 2.5, 3. , 1.1],\n",
              "       [5.7, 2.8, 4.1, 1.3],\n",
              "       [6.3, 3.3, 6. , 2.5],\n",
              "       [5.8, 2.7, 5.1, 1.9],\n",
              "       [7.1, 3. , 5.9, 2.1],\n",
              "       [6.3, 2.9, 5.6, 1.8],\n",
              "       [6.5, 3. , 5.8, 2.2],\n",
              "       [7.6, 3. , 6.6, 2.1],\n",
              "       [4.9, 2.5, 4.5, 1.7],\n",
              "       [7.3, 2.9, 6.3, 1.8],\n",
              "       [6.7, 2.5, 5.8, 1.8],\n",
              "       [7.2, 3.6, 6.1, 2.5],\n",
              "       [6.5, 3.2, 5.1, 2. ],\n",
              "       [6.4, 2.7, 5.3, 1.9],\n",
              "       [6.8, 3. , 5.5, 2.1],\n",
              "       [5.7, 2.5, 5. , 2. ],\n",
              "       [5.8, 2.8, 5.1, 2.4],\n",
              "       [6.4, 3.2, 5.3, 2.3],\n",
              "       [6.5, 3. , 5.5, 1.8],\n",
              "       [7.7, 3.8, 6.7, 2.2],\n",
              "       [7.7, 2.6, 6.9, 2.3],\n",
              "       [6. , 2.2, 5. , 1.5],\n",
              "       [6.9, 3.2, 5.7, 2.3],\n",
              "       [5.6, 2.8, 4.9, 2. ],\n",
              "       [7.7, 2.8, 6.7, 2. ],\n",
              "       [6.3, 2.7, 4.9, 1.8],\n",
              "       [6.7, 3.3, 5.7, 2.1],\n",
              "       [7.2, 3.2, 6. , 1.8],\n",
              "       [6.2, 2.8, 4.8, 1.8],\n",
              "       [6.1, 3. , 4.9, 1.8],\n",
              "       [6.4, 2.8, 5.6, 2.1],\n",
              "       [7.2, 3. , 5.8, 1.6],\n",
              "       [7.4, 2.8, 6.1, 1.9],\n",
              "       [7.9, 3.8, 6.4, 2. ],\n",
              "       [6.4, 2.8, 5.6, 2.2],\n",
              "       [6.3, 2.8, 5.1, 1.5],\n",
              "       [6.1, 2.6, 5.6, 1.4],\n",
              "       [7.7, 3. , 6.1, 2.3],\n",
              "       [6.3, 3.4, 5.6, 2.4],\n",
              "       [6.4, 3.1, 5.5, 1.8],\n",
              "       [6. , 3. , 4.8, 1.8],\n",
              "       [6.9, 3.1, 5.4, 2.1],\n",
              "       [6.7, 3.1, 5.6, 2.4],\n",
              "       [6.9, 3.1, 5.1, 2.3],\n",
              "       [5.8, 2.7, 5.1, 1.9],\n",
              "       [6.8, 3.2, 5.9, 2.3],\n",
              "       [6.7, 3.3, 5.7, 2.5],\n",
              "       [6.7, 3. , 5.2, 2.3],\n",
              "       [6.3, 2.5, 5. , 1.9],\n",
              "       [6.5, 3. , 5.2, 2. ],\n",
              "       [6.2, 3.4, 5.4, 2.3],\n",
              "       [5.9, 3. , 5.1, 1.8]])"
            ]
          },
          "metadata": {},
          "execution_count": 100
        }
      ]
    },
    {
      "cell_type": "code",
      "source": [
        "alvos"
      ],
      "metadata": {
        "colab": {
          "base_uri": "https://localhost:8080/"
        },
        "id": "IhBWRnjLeuXo",
        "outputId": "44d9fbd0-9628-413f-98b8-20742ccef1e6"
      },
      "execution_count": 101,
      "outputs": [
        {
          "output_type": "execute_result",
          "data": {
            "text/plain": [
              "array([0, 0, 0, 0, 0, 0, 0, 0, 0, 0, 0, 0, 0, 0, 0, 0, 0, 0, 0, 0, 0, 0,\n",
              "       0, 0, 0, 0, 0, 0, 0, 0, 0, 0, 0, 0, 0, 0, 0, 0, 0, 0, 0, 0, 0, 0,\n",
              "       0, 0, 0, 0, 0, 0, 1, 1, 1, 1, 1, 1, 1, 1, 1, 1, 1, 1, 1, 1, 1, 1,\n",
              "       1, 1, 1, 1, 1, 1, 1, 1, 1, 1, 1, 1, 1, 1, 1, 1, 1, 1, 1, 1, 1, 1,\n",
              "       1, 1, 1, 1, 1, 1, 1, 1, 1, 1, 1, 1, 2, 2, 2, 2, 2, 2, 2, 2, 2, 2,\n",
              "       2, 2, 2, 2, 2, 2, 2, 2, 2, 2, 2, 2, 2, 2, 2, 2, 2, 2, 2, 2, 2, 2,\n",
              "       2, 2, 2, 2, 2, 2, 2, 2, 2, 2, 2, 2, 2, 2, 2, 2, 2, 2])"
            ]
          },
          "metadata": {},
          "execution_count": 101
        }
      ]
    },
    {
      "cell_type": "code",
      "source": [
        "iris"
      ],
      "metadata": {
        "colab": {
          "base_uri": "https://localhost:8080/"
        },
        "id": "OQNtmggLexF4",
        "outputId": "28ebc4cd-04c5-40a2-fab9-d0e708e09c62"
      },
      "execution_count": 102,
      "outputs": [
        {
          "output_type": "execute_result",
          "data": {
            "text/plain": [
              "{'data': array([[5.1, 3.5, 1.4, 0.2],\n",
              "        [4.9, 3. , 1.4, 0.2],\n",
              "        [4.7, 3.2, 1.3, 0.2],\n",
              "        [4.6, 3.1, 1.5, 0.2],\n",
              "        [5. , 3.6, 1.4, 0.2],\n",
              "        [5.4, 3.9, 1.7, 0.4],\n",
              "        [4.6, 3.4, 1.4, 0.3],\n",
              "        [5. , 3.4, 1.5, 0.2],\n",
              "        [4.4, 2.9, 1.4, 0.2],\n",
              "        [4.9, 3.1, 1.5, 0.1],\n",
              "        [5.4, 3.7, 1.5, 0.2],\n",
              "        [4.8, 3.4, 1.6, 0.2],\n",
              "        [4.8, 3. , 1.4, 0.1],\n",
              "        [4.3, 3. , 1.1, 0.1],\n",
              "        [5.8, 4. , 1.2, 0.2],\n",
              "        [5.7, 4.4, 1.5, 0.4],\n",
              "        [5.4, 3.9, 1.3, 0.4],\n",
              "        [5.1, 3.5, 1.4, 0.3],\n",
              "        [5.7, 3.8, 1.7, 0.3],\n",
              "        [5.1, 3.8, 1.5, 0.3],\n",
              "        [5.4, 3.4, 1.7, 0.2],\n",
              "        [5.1, 3.7, 1.5, 0.4],\n",
              "        [4.6, 3.6, 1. , 0.2],\n",
              "        [5.1, 3.3, 1.7, 0.5],\n",
              "        [4.8, 3.4, 1.9, 0.2],\n",
              "        [5. , 3. , 1.6, 0.2],\n",
              "        [5. , 3.4, 1.6, 0.4],\n",
              "        [5.2, 3.5, 1.5, 0.2],\n",
              "        [5.2, 3.4, 1.4, 0.2],\n",
              "        [4.7, 3.2, 1.6, 0.2],\n",
              "        [4.8, 3.1, 1.6, 0.2],\n",
              "        [5.4, 3.4, 1.5, 0.4],\n",
              "        [5.2, 4.1, 1.5, 0.1],\n",
              "        [5.5, 4.2, 1.4, 0.2],\n",
              "        [4.9, 3.1, 1.5, 0.2],\n",
              "        [5. , 3.2, 1.2, 0.2],\n",
              "        [5.5, 3.5, 1.3, 0.2],\n",
              "        [4.9, 3.6, 1.4, 0.1],\n",
              "        [4.4, 3. , 1.3, 0.2],\n",
              "        [5.1, 3.4, 1.5, 0.2],\n",
              "        [5. , 3.5, 1.3, 0.3],\n",
              "        [4.5, 2.3, 1.3, 0.3],\n",
              "        [4.4, 3.2, 1.3, 0.2],\n",
              "        [5. , 3.5, 1.6, 0.6],\n",
              "        [5.1, 3.8, 1.9, 0.4],\n",
              "        [4.8, 3. , 1.4, 0.3],\n",
              "        [5.1, 3.8, 1.6, 0.2],\n",
              "        [4.6, 3.2, 1.4, 0.2],\n",
              "        [5.3, 3.7, 1.5, 0.2],\n",
              "        [5. , 3.3, 1.4, 0.2],\n",
              "        [7. , 3.2, 4.7, 1.4],\n",
              "        [6.4, 3.2, 4.5, 1.5],\n",
              "        [6.9, 3.1, 4.9, 1.5],\n",
              "        [5.5, 2.3, 4. , 1.3],\n",
              "        [6.5, 2.8, 4.6, 1.5],\n",
              "        [5.7, 2.8, 4.5, 1.3],\n",
              "        [6.3, 3.3, 4.7, 1.6],\n",
              "        [4.9, 2.4, 3.3, 1. ],\n",
              "        [6.6, 2.9, 4.6, 1.3],\n",
              "        [5.2, 2.7, 3.9, 1.4],\n",
              "        [5. , 2. , 3.5, 1. ],\n",
              "        [5.9, 3. , 4.2, 1.5],\n",
              "        [6. , 2.2, 4. , 1. ],\n",
              "        [6.1, 2.9, 4.7, 1.4],\n",
              "        [5.6, 2.9, 3.6, 1.3],\n",
              "        [6.7, 3.1, 4.4, 1.4],\n",
              "        [5.6, 3. , 4.5, 1.5],\n",
              "        [5.8, 2.7, 4.1, 1. ],\n",
              "        [6.2, 2.2, 4.5, 1.5],\n",
              "        [5.6, 2.5, 3.9, 1.1],\n",
              "        [5.9, 3.2, 4.8, 1.8],\n",
              "        [6.1, 2.8, 4. , 1.3],\n",
              "        [6.3, 2.5, 4.9, 1.5],\n",
              "        [6.1, 2.8, 4.7, 1.2],\n",
              "        [6.4, 2.9, 4.3, 1.3],\n",
              "        [6.6, 3. , 4.4, 1.4],\n",
              "        [6.8, 2.8, 4.8, 1.4],\n",
              "        [6.7, 3. , 5. , 1.7],\n",
              "        [6. , 2.9, 4.5, 1.5],\n",
              "        [5.7, 2.6, 3.5, 1. ],\n",
              "        [5.5, 2.4, 3.8, 1.1],\n",
              "        [5.5, 2.4, 3.7, 1. ],\n",
              "        [5.8, 2.7, 3.9, 1.2],\n",
              "        [6. , 2.7, 5.1, 1.6],\n",
              "        [5.4, 3. , 4.5, 1.5],\n",
              "        [6. , 3.4, 4.5, 1.6],\n",
              "        [6.7, 3.1, 4.7, 1.5],\n",
              "        [6.3, 2.3, 4.4, 1.3],\n",
              "        [5.6, 3. , 4.1, 1.3],\n",
              "        [5.5, 2.5, 4. , 1.3],\n",
              "        [5.5, 2.6, 4.4, 1.2],\n",
              "        [6.1, 3. , 4.6, 1.4],\n",
              "        [5.8, 2.6, 4. , 1.2],\n",
              "        [5. , 2.3, 3.3, 1. ],\n",
              "        [5.6, 2.7, 4.2, 1.3],\n",
              "        [5.7, 3. , 4.2, 1.2],\n",
              "        [5.7, 2.9, 4.2, 1.3],\n",
              "        [6.2, 2.9, 4.3, 1.3],\n",
              "        [5.1, 2.5, 3. , 1.1],\n",
              "        [5.7, 2.8, 4.1, 1.3],\n",
              "        [6.3, 3.3, 6. , 2.5],\n",
              "        [5.8, 2.7, 5.1, 1.9],\n",
              "        [7.1, 3. , 5.9, 2.1],\n",
              "        [6.3, 2.9, 5.6, 1.8],\n",
              "        [6.5, 3. , 5.8, 2.2],\n",
              "        [7.6, 3. , 6.6, 2.1],\n",
              "        [4.9, 2.5, 4.5, 1.7],\n",
              "        [7.3, 2.9, 6.3, 1.8],\n",
              "        [6.7, 2.5, 5.8, 1.8],\n",
              "        [7.2, 3.6, 6.1, 2.5],\n",
              "        [6.5, 3.2, 5.1, 2. ],\n",
              "        [6.4, 2.7, 5.3, 1.9],\n",
              "        [6.8, 3. , 5.5, 2.1],\n",
              "        [5.7, 2.5, 5. , 2. ],\n",
              "        [5.8, 2.8, 5.1, 2.4],\n",
              "        [6.4, 3.2, 5.3, 2.3],\n",
              "        [6.5, 3. , 5.5, 1.8],\n",
              "        [7.7, 3.8, 6.7, 2.2],\n",
              "        [7.7, 2.6, 6.9, 2.3],\n",
              "        [6. , 2.2, 5. , 1.5],\n",
              "        [6.9, 3.2, 5.7, 2.3],\n",
              "        [5.6, 2.8, 4.9, 2. ],\n",
              "        [7.7, 2.8, 6.7, 2. ],\n",
              "        [6.3, 2.7, 4.9, 1.8],\n",
              "        [6.7, 3.3, 5.7, 2.1],\n",
              "        [7.2, 3.2, 6. , 1.8],\n",
              "        [6.2, 2.8, 4.8, 1.8],\n",
              "        [6.1, 3. , 4.9, 1.8],\n",
              "        [6.4, 2.8, 5.6, 2.1],\n",
              "        [7.2, 3. , 5.8, 1.6],\n",
              "        [7.4, 2.8, 6.1, 1.9],\n",
              "        [7.9, 3.8, 6.4, 2. ],\n",
              "        [6.4, 2.8, 5.6, 2.2],\n",
              "        [6.3, 2.8, 5.1, 1.5],\n",
              "        [6.1, 2.6, 5.6, 1.4],\n",
              "        [7.7, 3. , 6.1, 2.3],\n",
              "        [6.3, 3.4, 5.6, 2.4],\n",
              "        [6.4, 3.1, 5.5, 1.8],\n",
              "        [6. , 3. , 4.8, 1.8],\n",
              "        [6.9, 3.1, 5.4, 2.1],\n",
              "        [6.7, 3.1, 5.6, 2.4],\n",
              "        [6.9, 3.1, 5.1, 2.3],\n",
              "        [5.8, 2.7, 5.1, 1.9],\n",
              "        [6.8, 3.2, 5.9, 2.3],\n",
              "        [6.7, 3.3, 5.7, 2.5],\n",
              "        [6.7, 3. , 5.2, 2.3],\n",
              "        [6.3, 2.5, 5. , 1.9],\n",
              "        [6.5, 3. , 5.2, 2. ],\n",
              "        [6.2, 3.4, 5.4, 2.3],\n",
              "        [5.9, 3. , 5.1, 1.8]]),\n",
              " 'target': array([0, 0, 0, 0, 0, 0, 0, 0, 0, 0, 0, 0, 0, 0, 0, 0, 0, 0, 0, 0, 0, 0,\n",
              "        0, 0, 0, 0, 0, 0, 0, 0, 0, 0, 0, 0, 0, 0, 0, 0, 0, 0, 0, 0, 0, 0,\n",
              "        0, 0, 0, 0, 0, 0, 1, 1, 1, 1, 1, 1, 1, 1, 1, 1, 1, 1, 1, 1, 1, 1,\n",
              "        1, 1, 1, 1, 1, 1, 1, 1, 1, 1, 1, 1, 1, 1, 1, 1, 1, 1, 1, 1, 1, 1,\n",
              "        1, 1, 1, 1, 1, 1, 1, 1, 1, 1, 1, 1, 2, 2, 2, 2, 2, 2, 2, 2, 2, 2,\n",
              "        2, 2, 2, 2, 2, 2, 2, 2, 2, 2, 2, 2, 2, 2, 2, 2, 2, 2, 2, 2, 2, 2,\n",
              "        2, 2, 2, 2, 2, 2, 2, 2, 2, 2, 2, 2, 2, 2, 2, 2, 2, 2]),\n",
              " 'frame': None,\n",
              " 'target_names': array(['setosa', 'versicolor', 'virginica'], dtype='<U10'),\n",
              " 'DESCR': '.. _iris_dataset:\\n\\nIris plants dataset\\n--------------------\\n\\n**Data Set Characteristics:**\\n\\n    :Number of Instances: 150 (50 in each of three classes)\\n    :Number of Attributes: 4 numeric, predictive attributes and the class\\n    :Attribute Information:\\n        - sepal length in cm\\n        - sepal width in cm\\n        - petal length in cm\\n        - petal width in cm\\n        - class:\\n                - Iris-Setosa\\n                - Iris-Versicolour\\n                - Iris-Virginica\\n                \\n    :Summary Statistics:\\n\\n    ============== ==== ==== ======= ===== ====================\\n                    Min  Max   Mean    SD   Class Correlation\\n    ============== ==== ==== ======= ===== ====================\\n    sepal length:   4.3  7.9   5.84   0.83    0.7826\\n    sepal width:    2.0  4.4   3.05   0.43   -0.4194\\n    petal length:   1.0  6.9   3.76   1.76    0.9490  (high!)\\n    petal width:    0.1  2.5   1.20   0.76    0.9565  (high!)\\n    ============== ==== ==== ======= ===== ====================\\n\\n    :Missing Attribute Values: None\\n    :Class Distribution: 33.3% for each of 3 classes.\\n    :Creator: R.A. Fisher\\n    :Donor: Michael Marshall (MARSHALL%PLU@io.arc.nasa.gov)\\n    :Date: July, 1988\\n\\nThe famous Iris database, first used by Sir R.A. Fisher. The dataset is taken\\nfrom Fisher\\'s paper. Note that it\\'s the same as in R, but not as in the UCI\\nMachine Learning Repository, which has two wrong data points.\\n\\nThis is perhaps the best known database to be found in the\\npattern recognition literature.  Fisher\\'s paper is a classic in the field and\\nis referenced frequently to this day.  (See Duda & Hart, for example.)  The\\ndata set contains 3 classes of 50 instances each, where each class refers to a\\ntype of iris plant.  One class is linearly separable from the other 2; the\\nlatter are NOT linearly separable from each other.\\n\\n.. topic:: References\\n\\n   - Fisher, R.A. \"The use of multiple measurements in taxonomic problems\"\\n     Annual Eugenics, 7, Part II, 179-188 (1936); also in \"Contributions to\\n     Mathematical Statistics\" (John Wiley, NY, 1950).\\n   - Duda, R.O., & Hart, P.E. (1973) Pattern Classification and Scene Analysis.\\n     (Q327.D83) John Wiley & Sons.  ISBN 0-471-22361-1.  See page 218.\\n   - Dasarathy, B.V. (1980) \"Nosing Around the Neighborhood: A New System\\n     Structure and Classification Rule for Recognition in Partially Exposed\\n     Environments\".  IEEE Transactions on Pattern Analysis and Machine\\n     Intelligence, Vol. PAMI-2, No. 1, 67-71.\\n   - Gates, G.W. (1972) \"The Reduced Nearest Neighbor Rule\".  IEEE Transactions\\n     on Information Theory, May 1972, 431-433.\\n   - See also: 1988 MLC Proceedings, 54-64.  Cheeseman et al\"s AUTOCLASS II\\n     conceptual clustering system finds 3 classes in the data.\\n   - Many, many more ...',\n",
              " 'feature_names': ['sepal length (cm)',\n",
              "  'sepal width (cm)',\n",
              "  'petal length (cm)',\n",
              "  'petal width (cm)'],\n",
              " 'filename': 'iris.csv',\n",
              " 'data_module': 'sklearn.datasets.data'}"
            ]
          },
          "metadata": {},
          "execution_count": 102
        }
      ]
    },
    {
      "cell_type": "code",
      "source": [
        "import matplotlib.pyplot as plt\n",
        "\n",
        "plt.figure(figsize=(10,5))\n",
        "plt.subplot(1, 2, 1)\n",
        "for contador, nome in enumerate(nomesAlvo):\n",
        "  x_plot = dados[ alvos == contador]\n",
        "  plt.plot(x_plot[:,0], x_plot[:,1], linestyle='none', marker='o', label=nome);\n",
        "\n",
        "plt.xlabel(nomesCaracteristicas[0]);\n",
        "plt.ylabel(nomesCaracteristicas[1]);\n",
        "plt.axis('equal');\n",
        "plt.legend();\n",
        "\n",
        "plt.subplot(1, 2, 2)\n",
        "for contador, nome in enumerate(nomesAlvo):\n",
        "  x_plot = dados[ alvos == contador]\n",
        "  plt.plot(x_plot[:,2], x_plot[:,3], linestyle='none', marker='o', label=nome);\n",
        "\n",
        "plt.xlabel(nomesCaracteristicas[2]);\n",
        "plt.ylabel(nomesCaracteristicas[3]);\n",
        "plt.axis('equal');\n",
        "plt.legend();"
      ],
      "metadata": {
        "colab": {
          "base_uri": "https://localhost:8080/",
          "height": 0
        },
        "id": "C3jv9JRKeyTB",
        "outputId": "245e79af-3cba-4980-a4d8-98a3a1f3e4b0"
      },
      "execution_count": 103,
      "outputs": [
        {
          "output_type": "display_data",
          "data": {
            "text/plain": [
              "<Figure size 720x360 with 2 Axes>"
            ],
            "image/png": "[encoded data removed]"
          },
          "metadata": {
            "needs_background": "light"
          }
        }
      ]
    },
    {
      "cell_type": "markdown",
      "source": [
        "#### Classificação Binária"
      ],
      "metadata": {
        "id": "u-P-RIlShOIb"
      }
    },
    {
      "cell_type": "markdown",
      "source": [
        "Experimentando Perceptron com duas entradas e uma saída (2 Classes)"
      ],
      "metadata": {
        "id": "K9TkF0xBhW_B"
      }
    },
    {
      "cell_type": "code",
      "source": [
        "# Vamos simplificar e usar apenas comprimento da pétala e largura da pétala\n",
        "dadosReduzidos = dados[:, (2, 3)] # petal length, petal width\n",
        "dadosReduzidos"
      ],
      "metadata": {
        "colab": {
          "base_uri": "https://localhost:8080/"
        },
        "id": "ZkRbANLJhZCh",
        "outputId": "902321fa-c5fc-45ef-8084-b0a6c02b42b4"
      },
      "execution_count": 104,
      "outputs": [
        {
          "output_type": "execute_result",
          "data": {
            "text/plain": [
              "array([[1.4, 0.2],\n",
              "       [1.4, 0.2],\n",
              "       [1.3, 0.2],\n",
              "       [1.5, 0.2],\n",
              "       [1.4, 0.2],\n",
              "       [1.7, 0.4],\n",
              "       [1.4, 0.3],\n",
              "       [1.5, 0.2],\n",
              "       [1.4, 0.2],\n",
              "       [1.5, 0.1],\n",
              "       [1.5, 0.2],\n",
              "       [1.6, 0.2],\n",
              "       [1.4, 0.1],\n",
              "       [1.1, 0.1],\n",
              "       [1.2, 0.2],\n",
              "       [1.5, 0.4],\n",
              "       [1.3, 0.4],\n",
              "       [1.4, 0.3],\n",
              "       [1.7, 0.3],\n",
              "       [1.5, 0.3],\n",
              "       [1.7, 0.2],\n",
              "       [1.5, 0.4],\n",
              "       [1. , 0.2],\n",
              "       [1.7, 0.5],\n",
              "       [1.9, 0.2],\n",
              "       [1.6, 0.2],\n",
              "       [1.6, 0.4],\n",
              "       [1.5, 0.2],\n",
              "       [1.4, 0.2],\n",
              "       [1.6, 0.2],\n",
              "       [1.6, 0.2],\n",
              "       [1.5, 0.4],\n",
              "       [1.5, 0.1],\n",
              "       [1.4, 0.2],\n",
              "       [1.5, 0.2],\n",
              "       [1.2, 0.2],\n",
              "       [1.3, 0.2],\n",
              "       [1.4, 0.1],\n",
              "       [1.3, 0.2],\n",
              "       [1.5, 0.2],\n",
              "       [1.3, 0.3],\n",
              "       [1.3, 0.3],\n",
              "       [1.3, 0.2],\n",
              "       [1.6, 0.6],\n",
              "       [1.9, 0.4],\n",
              "       [1.4, 0.3],\n",
              "       [1.6, 0.2],\n",
              "       [1.4, 0.2],\n",
              "       [1.5, 0.2],\n",
              "       [1.4, 0.2],\n",
              "       [4.7, 1.4],\n",
              "       [4.5, 1.5],\n",
              "       [4.9, 1.5],\n",
              "       [4. , 1.3],\n",
              "       [4.6, 1.5],\n",
              "       [4.5, 1.3],\n",
              "       [4.7, 1.6],\n",
              "       [3.3, 1. ],\n",
              "       [4.6, 1.3],\n",
              "       [3.9, 1.4],\n",
              "       [3.5, 1. ],\n",
              "       [4.2, 1.5],\n",
              "       [4. , 1. ],\n",
              "       [4.7, 1.4],\n",
              "       [3.6, 1.3],\n",
              "       [4.4, 1.4],\n",
              "       [4.5, 1.5],\n",
              "       [4.1, 1. ],\n",
              "       [4.5, 1.5],\n",
              "       [3.9, 1.1],\n",
              "       [4.8, 1.8],\n",
              "       [4. , 1.3],\n",
              "       [4.9, 1.5],\n",
              "       [4.7, 1.2],\n",
              "       [4.3, 1.3],\n",
              "       [4.4, 1.4],\n",
              "       [4.8, 1.4],\n",
              "       [5. , 1.7],\n",
              "       [4.5, 1.5],\n",
              "       [3.5, 1. ],\n",
              "       [3.8, 1.1],\n",
              "       [3.7, 1. ],\n",
              "       [3.9, 1.2],\n",
              "       [5.1, 1.6],\n",
              "       [4.5, 1.5],\n",
              "       [4.5, 1.6],\n",
              "       [4.7, 1.5],\n",
              "       [4.4, 1.3],\n",
              "       [4.1, 1.3],\n",
              "       [4. , 1.3],\n",
              "       [4.4, 1.2],\n",
              "       [4.6, 1.4],\n",
              "       [4. , 1.2],\n",
              "       [3.3, 1. ],\n",
              "       [4.2, 1.3],\n",
              "       [4.2, 1.2],\n",
              "       [4.2, 1.3],\n",
              "       [4.3, 1.3],\n",
              "       [3. , 1.1],\n",
              "       [4.1, 1.3],\n",
              "       [6. , 2.5],\n",
              "       [5.1, 1.9],\n",
              "       [5.9, 2.1],\n",
              "       [5.6, 1.8],\n",
              "       [5.8, 2.2],\n",
              "       [6.6, 2.1],\n",
              "       [4.5, 1.7],\n",
              "       [6.3, 1.8],\n",
              "       [5.8, 1.8],\n",
              "       [6.1, 2.5],\n",
              "       [5.1, 2. ],\n",
              "       [5.3, 1.9],\n",
              "       [5.5, 2.1],\n",
              "       [5. , 2. ],\n",
              "       [5.1, 2.4],\n",
              "       [5.3, 2.3],\n",
              "       [5.5, 1.8],\n",
              "       [6.7, 2.2],\n",
              "       [6.9, 2.3],\n",
              "       [5. , 1.5],\n",
              "       [5.7, 2.3],\n",
              "       [4.9, 2. ],\n",
              "       [6.7, 2. ],\n",
              "       [4.9, 1.8],\n",
              "       [5.7, 2.1],\n",
              "       [6. , 1.8],\n",
              "       [4.8, 1.8],\n",
              "       [4.9, 1.8],\n",
              "       [5.6, 2.1],\n",
              "       [5.8, 1.6],\n",
              "       [6.1, 1.9],\n",
              "       [6.4, 2. ],\n",
              "       [5.6, 2.2],\n",
              "       [5.1, 1.5],\n",
              "       [5.6, 1.4],\n",
              "       [6.1, 2.3],\n",
              "       [5.6, 2.4],\n",
              "       [5.5, 1.8],\n",
              "       [4.8, 1.8],\n",
              "       [5.4, 2.1],\n",
              "       [5.6, 2.4],\n",
              "       [5.1, 2.3],\n",
              "       [5.1, 1.9],\n",
              "       [5.9, 2.3],\n",
              "       [5.7, 2.5],\n",
              "       [5.2, 2.3],\n",
              "       [5. , 1.9],\n",
              "       [5.2, 2. ],\n",
              "       [5.4, 2.3],\n",
              "       [5.1, 1.8]])"
            ]
          },
          "metadata": {},
          "execution_count": 104
        }
      ]
    },
    {
      "cell_type": "code",
      "source": [
        "len(dados)"
      ],
      "metadata": {
        "colab": {
          "base_uri": "https://localhost:8080/"
        },
        "id": "9OWiKi2ThafK",
        "outputId": "c8b500fd-34e9-4ca7-a1fe-d8d901c8f55b"
      },
      "execution_count": 105,
      "outputs": [
        {
          "output_type": "execute_result",
          "data": {
            "text/plain": [
              "150"
            ]
          },
          "metadata": {},
          "execution_count": 105
        }
      ]
    },
    {
      "cell_type": "code",
      "source": [
        "alvos"
      ],
      "metadata": {
        "colab": {
          "base_uri": "https://localhost:8080/"
        },
        "id": "s3_PRCfvhcwx",
        "outputId": "4e4b4b1b-8ed8-4ee9-a5a0-6d5e82dea7da"
      },
      "execution_count": 106,
      "outputs": [
        {
          "output_type": "execute_result",
          "data": {
            "text/plain": [
              "array([0, 0, 0, 0, 0, 0, 0, 0, 0, 0, 0, 0, 0, 0, 0, 0, 0, 0, 0, 0, 0, 0,\n",
              "       0, 0, 0, 0, 0, 0, 0, 0, 0, 0, 0, 0, 0, 0, 0, 0, 0, 0, 0, 0, 0, 0,\n",
              "       0, 0, 0, 0, 0, 0, 1, 1, 1, 1, 1, 1, 1, 1, 1, 1, 1, 1, 1, 1, 1, 1,\n",
              "       1, 1, 1, 1, 1, 1, 1, 1, 1, 1, 1, 1, 1, 1, 1, 1, 1, 1, 1, 1, 1, 1,\n",
              "       1, 1, 1, 1, 1, 1, 1, 1, 1, 1, 1, 1, 2, 2, 2, 2, 2, 2, 2, 2, 2, 2,\n",
              "       2, 2, 2, 2, 2, 2, 2, 2, 2, 2, 2, 2, 2, 2, 2, 2, 2, 2, 2, 2, 2, 2,\n",
              "       2, 2, 2, 2, 2, 2, 2, 2, 2, 2, 2, 2, 2, 2, 2, 2, 2, 2])"
            ]
          },
          "metadata": {},
          "execution_count": 106
        }
      ]
    },
    {
      "cell_type": "code",
      "source": [
        "# Uma LTU só faz classificação binária\n",
        "classeAlvo = 0 # iris setosa\n",
        "alvos == classeAlvo # Iris setosa?"
      ],
      "metadata": {
        "colab": {
          "base_uri": "https://localhost:8080/"
        },
        "id": "PpxiLfOPhgaB",
        "outputId": "d0696719-e014-407a-a64d-86659a421d42"
      },
      "execution_count": 107,
      "outputs": [
        {
          "output_type": "execute_result",
          "data": {
            "text/plain": [
              "array([ True,  True,  True,  True,  True,  True,  True,  True,  True,\n",
              "        True,  True,  True,  True,  True,  True,  True,  True,  True,\n",
              "        True,  True,  True,  True,  True,  True,  True,  True,  True,\n",
              "        True,  True,  True,  True,  True,  True,  True,  True,  True,\n",
              "        True,  True,  True,  True,  True,  True,  True,  True,  True,\n",
              "        True,  True,  True,  True,  True, False, False, False, False,\n",
              "       False, False, False, False, False, False, False, False, False,\n",
              "       False, False, False, False, False, False, False, False, False,\n",
              "       False, False, False, False, False, False, False, False, False,\n",
              "       False, False, False, False, False, False, False, False, False,\n",
              "       False, False, False, False, False, False, False, False, False,\n",
              "       False, False, False, False, False, False, False, False, False,\n",
              "       False, False, False, False, False, False, False, False, False,\n",
              "       False, False, False, False, False, False, False, False, False,\n",
              "       False, False, False, False, False, False, False, False, False,\n",
              "       False, False, False, False, False, False, False, False, False,\n",
              "       False, False, False, False, False, False])"
            ]
          },
          "metadata": {},
          "execution_count": 107
        }
      ]
    },
    {
      "cell_type": "code",
      "source": [
        "# Conversão de lógico para inteiro (true --> 1; false --> 0)\n",
        "alvoBinario = (alvos == classeAlvo).astype(int) # Iris setosa?\n",
        "alvoBinario"
      ],
      "metadata": {
        "colab": {
          "base_uri": "https://localhost:8080/"
        },
        "id": "KbNkE1ymhilZ",
        "outputId": "6d6e1560-1605-4bbf-ae7c-5a701eb26226"
      },
      "execution_count": 108,
      "outputs": [
        {
          "output_type": "execute_result",
          "data": {
            "text/plain": [
              "array([1, 1, 1, 1, 1, 1, 1, 1, 1, 1, 1, 1, 1, 1, 1, 1, 1, 1, 1, 1, 1, 1,\n",
              "       1, 1, 1, 1, 1, 1, 1, 1, 1, 1, 1, 1, 1, 1, 1, 1, 1, 1, 1, 1, 1, 1,\n",
              "       1, 1, 1, 1, 1, 1, 0, 0, 0, 0, 0, 0, 0, 0, 0, 0, 0, 0, 0, 0, 0, 0,\n",
              "       0, 0, 0, 0, 0, 0, 0, 0, 0, 0, 0, 0, 0, 0, 0, 0, 0, 0, 0, 0, 0, 0,\n",
              "       0, 0, 0, 0, 0, 0, 0, 0, 0, 0, 0, 0, 0, 0, 0, 0, 0, 0, 0, 0, 0, 0,\n",
              "       0, 0, 0, 0, 0, 0, 0, 0, 0, 0, 0, 0, 0, 0, 0, 0, 0, 0, 0, 0, 0, 0,\n",
              "       0, 0, 0, 0, 0, 0, 0, 0, 0, 0, 0, 0, 0, 0, 0, 0, 0, 0])"
            ]
          },
          "metadata": {},
          "execution_count": 108
        }
      ]
    },
    {
      "cell_type": "code",
      "source": [
        "# importando e treinando o Perceptron\n",
        "from sklearn.linear_model import Perceptron\n",
        "classificadorPerceptron = Perceptron()\n",
        "classificadorPerceptron.fit(dadosReduzidos, alvoBinario) # atributos de entrada e atributo alvo"
      ],
      "metadata": {
        "colab": {
          "base_uri": "https://localhost:8080/"
        },
        "id": "0XKNHHqIhmx4",
        "outputId": "87c17b48-a1bd-4354-cd5d-baf88a3afae3"
      },
      "execution_count": 109,
      "outputs": [
        {
          "output_type": "execute_result",
          "data": {
            "text/plain": [
              "Perceptron()"
            ]
          },
          "metadata": {},
          "execution_count": 109
        }
      ]
    },
    {
      "cell_type": "code",
      "source": [
        "# Predizendo uma nova amostra (iris setosa)\n",
        "y_pred = classificadorPerceptron.predict([[1.5, 0.5]])\n",
        "if (y_pred):\n",
        "  print (\"iris setosa\")\n",
        "else:\n",
        "  print (\"outra flor\")"
      ],
      "metadata": {
        "colab": {
          "base_uri": "https://localhost:8080/"
        },
        "id": "N2DTIzKMhvjn",
        "outputId": "2617b3e5-24bc-4fee-c931-cf4da6f786ff"
      },
      "execution_count": 110,
      "outputs": [
        {
          "output_type": "stream",
          "name": "stdout",
          "text": [
            "iris setosa\n"
          ]
        }
      ]
    },
    {
      "cell_type": "code",
      "source": [
        "# Predizendo uma nova amostra (prevendo outra flor)\n",
        "y_pred = classificadorPerceptron.predict([[4, 1]])\n",
        "if (y_pred):\n",
        "  print (\"iris setosa\")\n",
        "else:\n",
        "  print (\"outra flor\")"
      ],
      "metadata": {
        "colab": {
          "base_uri": "https://localhost:8080/"
        },
        "id": "dw6fb0EJhzZe",
        "outputId": "a018cb0b-d159-4f9f-9182-2053dedaf875"
      },
      "execution_count": 111,
      "outputs": [
        {
          "output_type": "stream",
          "name": "stdout",
          "text": [
            "outra flor\n"
          ]
        }
      ]
    },
    {
      "cell_type": "markdown",
      "source": [
        "Observando a matriz de pesos das conexões de entrada das LTU"
      ],
      "metadata": {
        "id": "EXbszTwBh4eu"
      }
    },
    {
      "cell_type": "code",
      "source": [
        "classificadorPerceptron.coef_ # matriz de pesos de entrada"
      ],
      "metadata": {
        "colab": {
          "base_uri": "https://localhost:8080/"
        },
        "id": "KoPFd3z7h8B2",
        "outputId": "a433e555-d7a2-4283-a07e-e1ff4bdb2823"
      },
      "execution_count": 112,
      "outputs": [
        {
          "output_type": "execute_result",
          "data": {
            "text/plain": [
              "array([[-0.7, -1.2]])"
            ]
          },
          "metadata": {},
          "execution_count": 112
        }
      ]
    },
    {
      "cell_type": "markdown",
      "source": [
        "Observando o peso de vies (entre o neuronio de vies e os neuronios LTU)"
      ],
      "metadata": {
        "id": "pAvcRJPdh92O"
      }
    },
    {
      "cell_type": "code",
      "source": [
        "classificadorPerceptron.intercept_ # matriz de pesos de vies"
      ],
      "metadata": {
        "colab": {
          "base_uri": "https://localhost:8080/"
        },
        "id": "VJdNgEDOiA5O",
        "outputId": "4eefb160-28b8-491c-d9b1-74894efb7552"
      },
      "execution_count": 113,
      "outputs": [
        {
          "output_type": "execute_result",
          "data": {
            "text/plain": [
              "array([2.])"
            ]
          },
          "metadata": {},
          "execution_count": 113
        }
      ]
    },
    {
      "cell_type": "markdown",
      "source": [
        "Avaliando o Perceptron vendo o score com dados de treino"
      ],
      "metadata": {
        "id": "KJMgFYJhiEfI"
      }
    },
    {
      "cell_type": "code",
      "source": [
        "classificadorPerceptron.score(dadosReduzidos,alvoBinario)"
      ],
      "metadata": {
        "colab": {
          "base_uri": "https://localhost:8080/"
        },
        "id": "-Lte8HMdiHl9",
        "outputId": "66e33ae3-89db-4b85-df25-3504d7f48724"
      },
      "execution_count": 114,
      "outputs": [
        {
          "output_type": "execute_result",
          "data": {
            "text/plain": [
              "1.0"
            ]
          },
          "metadata": {},
          "execution_count": 114
        }
      ]
    },
    {
      "cell_type": "markdown",
      "source": [
        "#### Classificação Multiclasse (Multioutput)"
      ],
      "metadata": {
        "id": "DywYIYK_iMmN"
      }
    },
    {
      "cell_type": "markdown",
      "source": [
        "Testando o Perceptron com 2 entradas e 3 saídas (3 classes). Usando apenas comprimento da pétala e largura da pétala\n"
      ],
      "metadata": {
        "id": "s9amSs0BiPXu"
      }
    },
    {
      "cell_type": "code",
      "source": [
        "np.unique(alvos) # valores unicos da classe alvo"
      ],
      "metadata": {
        "colab": {
          "base_uri": "https://localhost:8080/"
        },
        "id": "QqHshPOEiSYc",
        "outputId": "e65e2128-8e5e-4458-c8bb-31cd7be35c9e"
      },
      "execution_count": 115,
      "outputs": [
        {
          "output_type": "execute_result",
          "data": {
            "text/plain": [
              "array([0, 1, 2])"
            ]
          },
          "metadata": {},
          "execution_count": 115
        }
      ]
    },
    {
      "cell_type": "code",
      "source": [
        "classificadorPerceptron = Perceptron()\n",
        "classificadorPerceptron.fit(dadosReduzidos, alvos)"
      ],
      "metadata": {
        "colab": {
          "base_uri": "https://localhost:8080/"
        },
        "id": "re2Qfzuuigl6",
        "outputId": "15f63f4d-c20e-495d-e9b6-c2e2e5f94a96"
      },
      "execution_count": 116,
      "outputs": [
        {
          "output_type": "execute_result",
          "data": {
            "text/plain": [
              "Perceptron()"
            ]
          },
          "metadata": {},
          "execution_count": 116
        }
      ]
    },
    {
      "cell_type": "code",
      "source": [
        "# Predizendo uma nova amostra (setosa)\n",
        "y_pred = classificadorPerceptron.predict([[1.5, 0.5]])\n",
        "if (y_pred==0):\n",
        "  print (\"iris setosa\")\n",
        "elif (y_pred==1):\n",
        "  print (\"iris versicolor\")\n",
        "else:\n",
        "  print (\"iris virginica\")"
      ],
      "metadata": {
        "colab": {
          "base_uri": "https://localhost:8080/"
        },
        "id": "rq9_qcqaijHT",
        "outputId": "e6e4e585-a7fe-42ff-9e7e-cf86a7cfabd6"
      },
      "execution_count": 117,
      "outputs": [
        {
          "output_type": "stream",
          "name": "stdout",
          "text": [
            "iris setosa\n"
          ]
        }
      ]
    },
    {
      "cell_type": "code",
      "source": [
        "# Predizendo uma nova amostra (versicolor)\n",
        "y_pred = classificadorPerceptron.predict([[4, 1]])\n",
        "if (y_pred==0):\n",
        "  print (\"iris setosa\")\n",
        "elif (y_pred==1):\n",
        "  print (\"iris versicolor\")\n",
        "else:\n",
        "  print (\"iris virginica\")"
      ],
      "metadata": {
        "colab": {
          "base_uri": "https://localhost:8080/"
        },
        "id": "QUnyasUPinub",
        "outputId": "36f14b73-5627-4882-dabf-cdadce5a120b"
      },
      "execution_count": 118,
      "outputs": [
        {
          "output_type": "stream",
          "name": "stdout",
          "text": [
            "iris versicolor\n"
          ]
        }
      ]
    },
    {
      "cell_type": "code",
      "source": [
        "# Predizendo uma nova amostra (virginica)\n",
        "y_pred = classificadorPerceptron.predict([[6, 2]])\n",
        "if (y_pred==0):\n",
        "  print (\"iris setosa\")\n",
        "elif (y_pred==1):\n",
        "  print (\"iris versicolor\")\n",
        "else:\n",
        "  print (\"iris virginica\")"
      ],
      "metadata": {
        "colab": {
          "base_uri": "https://localhost:8080/"
        },
        "id": "wVtSYFGSiwDx",
        "outputId": "f8e04187-6613-4d96-9970-0fdb7dc49ff0"
      },
      "execution_count": 119,
      "outputs": [
        {
          "output_type": "stream",
          "name": "stdout",
          "text": [
            "iris virginica\n"
          ]
        }
      ]
    },
    {
      "cell_type": "markdown",
      "source": [
        "Observando a matriz de pesos das conexões de entrada das LTU"
      ],
      "metadata": {
        "id": "mODBCWRuizr6"
      }
    },
    {
      "cell_type": "code",
      "source": [
        "classificadorPerceptron.coef_ # 2 entradas, 3 saídas"
      ],
      "metadata": {
        "colab": {
          "base_uri": "https://localhost:8080/"
        },
        "id": "9eA8Xh74i2Di",
        "outputId": "7c52febc-135f-4533-9a4e-2959fe0ce737"
      },
      "execution_count": 120,
      "outputs": [
        {
          "output_type": "execute_result",
          "data": {
            "text/plain": [
              "array([[ -2. ,  -3.6],\n",
              "       [  7.5, -17.6],\n",
              "       [  1.6,  31.1]])"
            ]
          },
          "metadata": {},
          "execution_count": 120
        }
      ]
    },
    {
      "cell_type": "markdown",
      "source": [
        "Observando o peso de vies (entre o neuronio de vies e os neuronios LTU)"
      ],
      "metadata": {
        "id": "QQg5_PZbjKwQ"
      }
    },
    {
      "cell_type": "code",
      "source": [
        "classificadorPerceptron.intercept_ # matriz de pesos de vies"
      ],
      "metadata": {
        "colab": {
          "base_uri": "https://localhost:8080/"
        },
        "id": "0XLycebwjRL5",
        "outputId": "e4b237c0-328d-489c-c123-bcc1c014cc53"
      },
      "execution_count": 121,
      "outputs": [
        {
          "output_type": "execute_result",
          "data": {
            "text/plain": [
              "array([  7.,  -9., -52.])"
            ]
          },
          "metadata": {},
          "execution_count": 121
        }
      ]
    },
    {
      "cell_type": "markdown",
      "source": [
        "Avaliando o Perceptron vendo o score com dados de treino"
      ],
      "metadata": {
        "id": "xJiAj402jTSn"
      }
    },
    {
      "cell_type": "code",
      "source": [
        "classificadorPerceptron.score(dadosReduzidos,alvos)"
      ],
      "metadata": {
        "colab": {
          "base_uri": "https://localhost:8080/"
        },
        "id": "jbWuEaPNjU8w",
        "outputId": "c6bab9e2-ebb6-4440-88fa-8f2237bc82df"
      },
      "execution_count": 122,
      "outputs": [
        {
          "output_type": "execute_result",
          "data": {
            "text/plain": [
              "0.8733333333333333"
            ]
          },
          "metadata": {},
          "execution_count": 122
        }
      ]
    },
    {
      "cell_type": "markdown",
      "source": [
        "#### Atividade"
      ],
      "metadata": {
        "id": "W3LLl_Y-jYJp"
      }
    },
    {
      "cell_type": "markdown",
      "source": [
        "Testar o Perceptron com 4 entradas e 3 saídas.\n"
      ],
      "metadata": {
        "id": "mNVB93Dgja6-"
      }
    },
    {
      "cell_type": "markdown",
      "source": [
        "#### Resposta: 4 entradas e 3 saídas"
      ],
      "metadata": {
        "id": "HSf-t8fpB7Bb"
      }
    },
    {
      "cell_type": "code",
      "source": [
        "dados.shape"
      ],
      "metadata": {
        "colab": {
          "base_uri": "https://localhost:8080/"
        },
        "id": "eMfzXEIcCK5b",
        "outputId": "6d7a9e3a-89e9-4330-af7c-7a897c5fed01"
      },
      "execution_count": 123,
      "outputs": [
        {
          "output_type": "execute_result",
          "data": {
            "text/plain": [
              "(150, 4)"
            ]
          },
          "metadata": {},
          "execution_count": 123
        }
      ]
    },
    {
      "cell_type": "code",
      "source": [
        "# importando e treinando\n",
        "per_clf = Perceptron()\n",
        "per_clf.fit(dados, alvos) "
      ],
      "metadata": {
        "colab": {
          "base_uri": "https://localhost:8080/"
        },
        "id": "_GiF6sM3DMuC",
        "outputId": "be2ea9ab-647b-47fa-bfe5-d0bf30f85cef"
      },
      "execution_count": 124,
      "outputs": [
        {
          "output_type": "execute_result",
          "data": {
            "text/plain": [
              "Perceptron()"
            ]
          },
          "metadata": {},
          "execution_count": 124
        }
      ]
    },
    {
      "cell_type": "markdown",
      "source": [
        "### Problemas com o Perceptron "
      ],
      "metadata": {
        "id": "JFfMPjpPDdBx"
      }
    },
    {
      "cell_type": "markdown",
      "source": [
        "Em 1969, Marvin Minsky e Seymour Papert destacaram um número de sérias fraquezas dos Perceptrons, em particular o fato de serem incapazes de resolver alguns problemas triviais (por exemplo, o problema de classificação Exclusive OR (XOR).\n"
      ],
      "metadata": {
        "id": "gNjAK_6oEPoQ"
      }
    },
    {
      "cell_type": "markdown",
      "source": [
        "*   Isso é verdade para qualquer outro modelo de classificação linear (como classificadores de regressão logística), mas os pesquisadores esperavam muito mais dos Perceptrons, e alguns ficaram tão desapontados que abandonaram as redes neurais completamente em favor de problemas de nível superior, como lógica, resolução de problemas e pesquisa. \n",
        "\n",
        "\n",
        "*   Começou um inverno de IA \n",
        "\n"
      ],
      "metadata": {
        "id": "xHwitmagEdG5"
      }
    },
    {
      "cell_type": "markdown",
      "source": [
        "A tabela verdade do XOR "
      ],
      "metadata": {
        "id": "IeO9sauME84c"
      }
    },
    {
      "cell_type": "markdown",
      "source": [
        "![image](https://i.imgur.com/XI5Hpli.png)"
      ],
      "metadata": {
        "id": "n5ay9Ai7GdqL"
      }
    },
    {
      "cell_type": "markdown",
      "source": [
        "Os cientistas preferiram se concentrar em outros classificadores como o SVM."
      ],
      "metadata": {
        "id": "tHc7aNFqGjt7"
      }
    },
    {
      "cell_type": "code",
      "source": [
        "# os cientistas preferiram se concentrar em outros classificadores como o SVM\n",
        "from sklearn.pipeline import make_pipeline\n",
        "from sklearn.preprocessing import StandardScaler\n",
        "from sklearn.svm import SVC # support vector classifier\n",
        "from sklearn.svm import LinearSVC\n",
        "clf = make_pipeline(StandardScaler(), SVC(gamma='auto'))\n",
        "clf.fit(dados, alvos) "
      ],
      "metadata": {
        "colab": {
          "base_uri": "https://localhost:8080/"
        },
        "id": "9e5iv1cDG0F6",
        "outputId": "e64460de-e747-4cbc-f5f2-8ecf5695117e"
      },
      "execution_count": 125,
      "outputs": [
        {
          "output_type": "execute_result",
          "data": {
            "text/plain": [
              "Pipeline(steps=[('standardscaler', StandardScaler()),\n",
              "                ('svc', SVC(gamma='auto'))])"
            ]
          },
          "metadata": {},
          "execution_count": 125
        }
      ]
    },
    {
      "cell_type": "code",
      "source": [
        "clf.score(dados,alvos) "
      ],
      "metadata": {
        "colab": {
          "base_uri": "https://localhost:8080/"
        },
        "id": "xDvePfeRIToR",
        "outputId": "7b0762f0-0278-4434-df72-766f9a2679d6"
      },
      "execution_count": 126,
      "outputs": [
        {
          "output_type": "execute_result",
          "data": {
            "text/plain": [
              "0.9733333333333334"
            ]
          },
          "metadata": {},
          "execution_count": 126
        }
      ]
    },
    {
      "cell_type": "markdown",
      "source": [
        "### O perceptron multicamadas (rede neural) "
      ],
      "metadata": {
        "id": "GOtb1odIIYCk"
      }
    },
    {
      "cell_type": "markdown",
      "source": [
        "Entretanto, algumas das suas limitações podem ser eliminadas ao empilharmos vários Perceptrons. A RNA resultante é chamada de Perceptron Multicamada (MLP). Em particular, como você pode verificar, a MLP pode resolver o problema XOR calculando a saída MLP representada à direita da Figura abaixo. "
      ],
      "metadata": {
        "id": "OFTSMwkjIeeX"
      }
    },
    {
      "cell_type": "markdown",
      "source": [
        "![image](https://i.imgur.com/rNruRZ9.png)"
      ],
      "metadata": {
        "id": "25mLgwLjKRSe"
      }
    },
    {
      "cell_type": "markdown",
      "source": [
        "![image](https://i.imgur.com/Gayj1Fo.png)"
      ],
      "metadata": {
        "id": "z8n3_ZCzKUUf"
      }
    },
    {
      "cell_type": "markdown",
      "source": [
        "## Outras funções de ativação "
      ],
      "metadata": {
        "id": "6dviwn5fK25l"
      }
    },
    {
      "cell_type": "markdown",
      "source": [
        "A função Step não tem derivada, então ela limitava o Perceptron. Outras funções podem lidar com problemas não lineares."
      ],
      "metadata": {
        "id": "IYGWYAF7LE5W"
      }
    },
    {
      "cell_type": "markdown",
      "source": [
        "![image](https://i.imgur.com/OTFyxqA.png)"
      ],
      "metadata": {
        "id": "tkkK7c4mMJkZ"
      }
    },
    {
      "cell_type": "markdown",
      "source": [
        "### Experimentando Rede Neural (antes de maiores detalhes) "
      ],
      "metadata": {
        "id": "DI8S-AMkMxx5"
      }
    },
    {
      "cell_type": "code",
      "source": [
        "import tensorflow\n",
        "from tensorflow import keras"
      ],
      "metadata": {
        "id": "_H7FkZWvM5WB"
      },
      "execution_count": 127,
      "outputs": []
    },
    {
      "cell_type": "code",
      "source": [
        "dados = iris[\"data\"];\n",
        "alvos = iris[\"target\"];\n",
        "nomesAlvo = iris[\"target_names\"];\n",
        "nomesCaracteristicas = iris[\"feature_names\"];"
      ],
      "metadata": {
        "id": "0Av6vMHqN_-_"
      },
      "execution_count": 128,
      "outputs": []
    },
    {
      "cell_type": "code",
      "source": [
        "qtd_saida = len(nomesAlvo); # numero de classes\n",
        "qtd_entrada = len(nomesCaracteristicas);  # numero de caracteristicas "
      ],
      "metadata": {
        "id": "DUqZ2W6QOM9l"
      },
      "execution_count": 129,
      "outputs": []
    },
    {
      "cell_type": "code",
      "source": [
        "# Escalonando as características\n",
        "scaler = StandardScaler()\n",
        "X_scaled = scaler.fit_transform(dados) "
      ],
      "metadata": {
        "id": "JuboS8hdPAww"
      },
      "execution_count": 130,
      "outputs": []
    },
    {
      "cell_type": "code",
      "source": [
        "# dividindo o conjunto de treinamento e teste\n",
        "from sklearn.model_selection import train_test_split\n",
        "X_train, X_test, y_train, y_test = train_test_split(X_scaled, alvos, test_size=0.33, random_state=42)"
      ],
      "metadata": {
        "id": "-x6ajY-yQtYw"
      },
      "execution_count": 131,
      "outputs": []
    },
    {
      "cell_type": "code",
      "source": [
        "# Definindo a arquitetura da rede MLP \n",
        "# Unidades de saída, unidades de entrada, função de ativação \n",
        "modelo = keras.Sequential([\n",
        "  keras.layers.Dense(16, input_dim=qtd_entrada, activation='relu'),\n",
        "  keras.layers.Dense(qtd_saida, activation='softmax')\n",
        "])"
      ],
      "metadata": {
        "id": "U6l5LWJRT6Y0"
      },
      "execution_count": 132,
      "outputs": []
    },
    {
      "cell_type": "code",
      "source": [
        "modelo.summary() "
      ],
      "metadata": {
        "colab": {
          "base_uri": "https://localhost:8080/"
        },
        "id": "_9AQSS3lUQqo",
        "outputId": "08be3a36-55f7-490d-b1ed-c9aaf4ced427"
      },
      "execution_count": 133,
      "outputs": [
        {
          "output_type": "stream",
          "name": "stdout",
          "text": [
            "Model: \"sequential_2\"\n",
            "_________________________________________________________________\n",
            " Layer (type)                Output Shape              Param #   \n",
            "=================================================================\n",
            " dense_8 (Dense)             (None, 16)                80        \n",
            "                                                                 \n",
            " dense_9 (Dense)             (None, 3)                 51        \n",
            "                                                                 \n",
            "=================================================================\n",
            "Total params: 131\n",
            "Trainable params: 131\n",
            "Non-trainable params: 0\n",
            "_________________________________________________________________\n"
          ]
        }
      ]
    },
    {
      "cell_type": "markdown",
      "source": [
        "#### Outra forma de construir o modelo "
      ],
      "metadata": {
        "id": "m2emaPrJVkyr"
      }
    },
    {
      "cell_type": "code",
      "source": [
        "# Definindo a arquitetura da rede MLP\n",
        "# Unidades de saída, unidades de entrada, função de ativação\n",
        "modelo = keras.Sequential(name ='modelo1')\n",
        "modelo.add(keras.layers.Dense(8, input_dim=qtd_entrada,activation='relu'))\n",
        "modelo.add(keras.layers.Dense(qtd_saida, activation='softmax')) "
      ],
      "metadata": {
        "id": "rILzNTtZVl_z"
      },
      "execution_count": 134,
      "outputs": []
    },
    {
      "cell_type": "code",
      "source": [
        "modelo.compile(loss='sparse_categorical_crossentropy',\n",
        "  optimizer=\"sgd\",\n",
        "  metrics=['accuracy']\n",
        ") "
      ],
      "metadata": {
        "id": "0lai0n9QWCKu"
      },
      "execution_count": 135,
      "outputs": []
    },
    {
      "cell_type": "markdown",
      "source": [
        "**Em Keras os argumentos de configuração importantes são os seguintes:**"
      ],
      "metadata": {
        "id": "3Ph2_bjPWP0K"
      }
    },
    {
      "cell_type": "markdown",
      "source": [
        "* **Número de neurônios/unidades na camada**  "
      ],
      "metadata": {
        "id": "pwVRxG2HWZcN"
      }
    },
    {
      "cell_type": "markdown",
      "source": [
        "* **Função de ativação** (activation) - a função de ativação é uma função especial usada para descobrir se um neurônio específico está ativado ou não. Basicamente, a função de ativação faz uma transformação não linear dos dados de entrada e, assim, permite que os neurônios aprendam melhor. A saída de um neurônio depende da função de ativação (*relu*, *sigmoid*, *tanh*, *exponential*, *softmax*)."
      ],
      "metadata": {
        "id": "g7FcBcy8WnqQ"
      }
    },
    {
      "cell_type": "markdown",
      "source": [
        "* **Função de Perda (loss)** - a função Loss é usada para encontrar erros ou desvios no processo de aprendizado (*mean_squared_error*, *mean_absolute_error*, *categorical_crossentropy*, *sparse_categorical_crossentropy*, *binary_crossentropy*)"
      ],
      "metadata": {
        "id": "9LUB_PWEXmHl"
      }
    },
    {
      "cell_type": "markdown",
      "source": [
        "* **Otimizador (optimizer)** - a otimização é um processo importante que otimiza os pesos de entrada comparando a previsão e a função de perda (*sgd*, *rmsprop*, *adagrad*, *adadelta*, *adam*, *adamax*, *nadam*). "
      ],
      "metadata": {
        "id": "FKC0DvOzZBcS"
      }
    },
    {
      "cell_type": "markdown",
      "source": [
        "* **Métricas (metrics)** - as métricas são usadas para avaliar o desempenho do seu modelo. É semelhante à função de perda, mas não é usada no processo de treinamento (*accuracy*, *binary_accuracy*, *categorical_accuracy*, *sparse_categorical_accuracy*). "
      ],
      "metadata": {
        "id": "nnbmwgJ7ZWbs"
      }
    },
    {
      "cell_type": "markdown",
      "source": [
        "**Observação**"
      ],
      "metadata": {
        "id": "4A6WbzleZxGf"
      }
    },
    {
      "cell_type": "markdown",
      "source": [
        "* Se estivéssemos fazendo **classificação binária** (com um ou mais rótulos binários), usaríamos a função de ativação \"**sigmoid**\" (ou seja, logística) na camada de saída e usaríamos a função de perda \"**binary_crossentropy**\". "
      ],
      "metadata": {
        "id": "3sZzG5LNZ0cQ"
      }
    },
    {
      "cell_type": "markdown",
      "source": [
        "* Se estivéssemos fazendo **classificação multiclasse**, usaríamos a função de ativação \"**softmax**” e a função de perda \"**sparse_categorical_crossentropy**' ou \"**categorical_crossentropy**’. "
      ],
      "metadata": {
        "id": "yJaG18bcaE-V"
      }
    },
    {
      "cell_type": "markdown",
      "source": [
        "* Usamos a função de perda \"**sparse_categorical_crossentropy**\" porque temos rótulos esparsos (ou seja, para cada instância, há apenas um índice de classe de destino, de 0 a 2 neste caso), e as **classes são exclusivas**. "
      ],
      "metadata": {
        "id": "0hyLm5QAad4J"
      }
    },
    {
      "cell_type": "markdown",
      "source": [
        "* Se, em vez disso, tivéssemos uma probabilidade alvo por classe para cada instância (como vetores one-hot, por exemplo, [0., 0., 1.] para representar a classe 3), então precisaríamos usar a função de perda “**categorical_crossentropy**”. "
      ],
      "metadata": {
        "id": "OWbZMFePay0n"
      }
    },
    {
      "cell_type": "code",
      "source": [
        " # Treinando o Modelo\n",
        "historico = modelo.fit(X_train, y_train, epochs=200, validation_split=0.2) "
      ],
      "metadata": {
        "colab": {
          "base_uri": "https://localhost:8080/"
        },
        "id": "YsJYWt2ZltBP",
        "outputId": "bf5b729a-815a-45a8-ba9d-8f6fa565c6bc"
      },
      "execution_count": 136,
      "outputs": [
        {
          "output_type": "stream",
          "name": "stdout",
          "text": [
            "Epoch 1/200\n",
            "3/3 [==============================] - 0s 83ms/step - loss: 1.2414 - accuracy: 0.2000 - val_loss: 1.2556 - val_accuracy: 0.1000\n",
            "Epoch 2/200\n",
            "3/3 [==============================] - 0s 24ms/step - loss: 1.2093 - accuracy: 0.2250 - val_loss: 1.2326 - val_accuracy: 0.1000\n",
            "Epoch 3/200\n",
            "3/3 [==============================] - 0s 14ms/step - loss: 1.1788 - accuracy: 0.2500 - val_loss: 1.2106 - val_accuracy: 0.1500\n",
            "Epoch 4/200\n",
            "3/3 [==============================] - 0s 40ms/step - loss: 1.1477 - accuracy: 0.3125 - val_loss: 1.1886 - val_accuracy: 0.1500\n",
            "Epoch 5/200\n",
            "3/3 [==============================] - 0s 13ms/step - loss: 1.1190 - accuracy: 0.4000 - val_loss: 1.1671 - val_accuracy: 0.2000\n",
            "Epoch 6/200\n",
            "3/3 [==============================] - 0s 13ms/step - loss: 1.0917 - accuracy: 0.4375 - val_loss: 1.1474 - val_accuracy: 0.2000\n",
            "Epoch 7/200\n",
            "3/3 [==============================] - 0s 12ms/step - loss: 1.0658 - accuracy: 0.4750 - val_loss: 1.1283 - val_accuracy: 0.2500\n",
            "Epoch 8/200\n",
            "3/3 [==============================] - 0s 13ms/step - loss: 1.0420 - accuracy: 0.5125 - val_loss: 1.1109 - val_accuracy: 0.3500\n",
            "Epoch 9/200\n",
            "3/3 [==============================] - 0s 13ms/step - loss: 1.0198 - accuracy: 0.5375 - val_loss: 1.0945 - val_accuracy: 0.3500\n",
            "Epoch 10/200\n",
            "3/3 [==============================] - 0s 13ms/step - loss: 0.9986 - accuracy: 0.5500 - val_loss: 1.0787 - val_accuracy: 0.4000\n",
            "Epoch 11/200\n",
            "3/3 [==============================] - 0s 13ms/step - loss: 0.9782 - accuracy: 0.5625 - val_loss: 1.0629 - val_accuracy: 0.4000\n",
            "Epoch 12/200\n",
            "3/3 [==============================] - 0s 13ms/step - loss: 0.9594 - accuracy: 0.5750 - val_loss: 1.0481 - val_accuracy: 0.4000\n",
            "Epoch 13/200\n",
            "3/3 [==============================] - 0s 12ms/step - loss: 0.9411 - accuracy: 0.6000 - val_loss: 1.0338 - val_accuracy: 0.4000\n",
            "Epoch 14/200\n",
            "3/3 [==============================] - 0s 15ms/step - loss: 0.9239 - accuracy: 0.6125 - val_loss: 1.0208 - val_accuracy: 0.4000\n",
            "Epoch 15/200\n",
            "3/3 [==============================] - 0s 12ms/step - loss: 0.9076 - accuracy: 0.6250 - val_loss: 1.0077 - val_accuracy: 0.4000\n",
            "Epoch 16/200\n",
            "3/3 [==============================] - 0s 13ms/step - loss: 0.8920 - accuracy: 0.6375 - val_loss: 0.9958 - val_accuracy: 0.4000\n",
            "Epoch 17/200\n",
            "3/3 [==============================] - 0s 12ms/step - loss: 0.8770 - accuracy: 0.6375 - val_loss: 0.9838 - val_accuracy: 0.4000\n",
            "Epoch 18/200\n",
            "3/3 [==============================] - 0s 15ms/step - loss: 0.8631 - accuracy: 0.6375 - val_loss: 0.9725 - val_accuracy: 0.4000\n",
            "Epoch 19/200\n",
            "3/3 [==============================] - 0s 23ms/step - loss: 0.8494 - accuracy: 0.6875 - val_loss: 0.9616 - val_accuracy: 0.4000\n",
            "Epoch 20/200\n",
            "3/3 [==============================] - 0s 15ms/step - loss: 0.8363 - accuracy: 0.6875 - val_loss: 0.9510 - val_accuracy: 0.4000\n",
            "Epoch 21/200\n",
            "3/3 [==============================] - 0s 13ms/step - loss: 0.8234 - accuracy: 0.7000 - val_loss: 0.9411 - val_accuracy: 0.4000\n",
            "Epoch 22/200\n",
            "3/3 [==============================] - 0s 12ms/step - loss: 0.8112 - accuracy: 0.7125 - val_loss: 0.9308 - val_accuracy: 0.4000\n",
            "Epoch 23/200\n",
            "3/3 [==============================] - 0s 15ms/step - loss: 0.7993 - accuracy: 0.7125 - val_loss: 0.9210 - val_accuracy: 0.4000\n",
            "Epoch 24/200\n",
            "3/3 [==============================] - 0s 15ms/step - loss: 0.7881 - accuracy: 0.7375 - val_loss: 0.9120 - val_accuracy: 0.5000\n",
            "Epoch 25/200\n",
            "3/3 [==============================] - 0s 18ms/step - loss: 0.7772 - accuracy: 0.7625 - val_loss: 0.9029 - val_accuracy: 0.5000\n",
            "Epoch 26/200\n",
            "3/3 [==============================] - 0s 15ms/step - loss: 0.7668 - accuracy: 0.7750 - val_loss: 0.8945 - val_accuracy: 0.5500\n",
            "Epoch 27/200\n",
            "3/3 [==============================] - 0s 15ms/step - loss: 0.7570 - accuracy: 0.7875 - val_loss: 0.8860 - val_accuracy: 0.5500\n",
            "Epoch 28/200\n",
            "3/3 [==============================] - 0s 13ms/step - loss: 0.7473 - accuracy: 0.8125 - val_loss: 0.8774 - val_accuracy: 0.6000\n",
            "Epoch 29/200\n",
            "3/3 [==============================] - 0s 22ms/step - loss: 0.7382 - accuracy: 0.8250 - val_loss: 0.8696 - val_accuracy: 0.6500\n",
            "Epoch 30/200\n",
            "3/3 [==============================] - 0s 13ms/step - loss: 0.7297 - accuracy: 0.8375 - val_loss: 0.8614 - val_accuracy: 0.6500\n",
            "Epoch 31/200\n",
            "3/3 [==============================] - 0s 13ms/step - loss: 0.7210 - accuracy: 0.8375 - val_loss: 0.8535 - val_accuracy: 0.7000\n",
            "Epoch 32/200\n",
            "3/3 [==============================] - 0s 16ms/step - loss: 0.7130 - accuracy: 0.8375 - val_loss: 0.8460 - val_accuracy: 0.7000\n",
            "Epoch 33/200\n",
            "3/3 [==============================] - 0s 14ms/step - loss: 0.7053 - accuracy: 0.8250 - val_loss: 0.8386 - val_accuracy: 0.7500\n",
            "Epoch 34/200\n",
            "3/3 [==============================] - 0s 13ms/step - loss: 0.6976 - accuracy: 0.8375 - val_loss: 0.8315 - val_accuracy: 0.7500\n",
            "Epoch 35/200\n",
            "3/3 [==============================] - 0s 13ms/step - loss: 0.6903 - accuracy: 0.8375 - val_loss: 0.8249 - val_accuracy: 0.7500\n",
            "Epoch 36/200\n",
            "3/3 [==============================] - 0s 16ms/step - loss: 0.6833 - accuracy: 0.8375 - val_loss: 0.8179 - val_accuracy: 0.7500\n",
            "Epoch 37/200\n",
            "3/3 [==============================] - 0s 13ms/step - loss: 0.6763 - accuracy: 0.8375 - val_loss: 0.8116 - val_accuracy: 0.7500\n",
            "Epoch 38/200\n",
            "3/3 [==============================] - 0s 16ms/step - loss: 0.6699 - accuracy: 0.8375 - val_loss: 0.8052 - val_accuracy: 0.7500\n",
            "Epoch 39/200\n",
            "3/3 [==============================] - 0s 13ms/step - loss: 0.6636 - accuracy: 0.8375 - val_loss: 0.7984 - val_accuracy: 0.7000\n",
            "Epoch 40/200\n",
            "3/3 [==============================] - 0s 14ms/step - loss: 0.6572 - accuracy: 0.8375 - val_loss: 0.7927 - val_accuracy: 0.7000\n",
            "Epoch 41/200\n",
            "3/3 [==============================] - 0s 14ms/step - loss: 0.6509 - accuracy: 0.8375 - val_loss: 0.7866 - val_accuracy: 0.7000\n",
            "Epoch 42/200\n",
            "3/3 [==============================] - 0s 13ms/step - loss: 0.6450 - accuracy: 0.8375 - val_loss: 0.7808 - val_accuracy: 0.7000\n",
            "Epoch 43/200\n",
            "3/3 [==============================] - 0s 14ms/step - loss: 0.6390 - accuracy: 0.8375 - val_loss: 0.7756 - val_accuracy: 0.7000\n",
            "Epoch 44/200\n",
            "3/3 [==============================] - 0s 14ms/step - loss: 0.6334 - accuracy: 0.8375 - val_loss: 0.7704 - val_accuracy: 0.7000\n",
            "Epoch 45/200\n",
            "3/3 [==============================] - 0s 14ms/step - loss: 0.6279 - accuracy: 0.8375 - val_loss: 0.7653 - val_accuracy: 0.7000\n",
            "Epoch 46/200\n",
            "3/3 [==============================] - 0s 13ms/step - loss: 0.6226 - accuracy: 0.8375 - val_loss: 0.7599 - val_accuracy: 0.7000\n",
            "Epoch 47/200\n",
            "3/3 [==============================] - 0s 13ms/step - loss: 0.6174 - accuracy: 0.8375 - val_loss: 0.7542 - val_accuracy: 0.7000\n",
            "Epoch 48/200\n",
            "3/3 [==============================] - 0s 14ms/step - loss: 0.6119 - accuracy: 0.8375 - val_loss: 0.7491 - val_accuracy: 0.7000\n",
            "Epoch 49/200\n",
            "3/3 [==============================] - 0s 14ms/step - loss: 0.6069 - accuracy: 0.8375 - val_loss: 0.7439 - val_accuracy: 0.7000\n",
            "Epoch 50/200\n",
            "3/3 [==============================] - 0s 13ms/step - loss: 0.6024 - accuracy: 0.8375 - val_loss: 0.7391 - val_accuracy: 0.7000\n",
            "Epoch 51/200\n",
            "3/3 [==============================] - 0s 15ms/step - loss: 0.5971 - accuracy: 0.8375 - val_loss: 0.7332 - val_accuracy: 0.7000\n",
            "Epoch 52/200\n",
            "3/3 [==============================] - 0s 14ms/step - loss: 0.5920 - accuracy: 0.8250 - val_loss: 0.7277 - val_accuracy: 0.7000\n",
            "Epoch 53/200\n",
            "3/3 [==============================] - 0s 14ms/step - loss: 0.5872 - accuracy: 0.8250 - val_loss: 0.7230 - val_accuracy: 0.7000\n",
            "Epoch 54/200\n",
            "3/3 [==============================] - 0s 14ms/step - loss: 0.5826 - accuracy: 0.8250 - val_loss: 0.7180 - val_accuracy: 0.7000\n",
            "Epoch 55/200\n",
            "3/3 [==============================] - 0s 17ms/step - loss: 0.5779 - accuracy: 0.8125 - val_loss: 0.7135 - val_accuracy: 0.7500\n",
            "Epoch 56/200\n",
            "3/3 [==============================] - 0s 17ms/step - loss: 0.5737 - accuracy: 0.8125 - val_loss: 0.7085 - val_accuracy: 0.7500\n",
            "Epoch 57/200\n",
            "3/3 [==============================] - 0s 13ms/step - loss: 0.5690 - accuracy: 0.8125 - val_loss: 0.7041 - val_accuracy: 0.7500\n",
            "Epoch 58/200\n",
            "3/3 [==============================] - 0s 13ms/step - loss: 0.5650 - accuracy: 0.8125 - val_loss: 0.7003 - val_accuracy: 0.7500\n",
            "Epoch 59/200\n",
            "3/3 [==============================] - 0s 15ms/step - loss: 0.5609 - accuracy: 0.8125 - val_loss: 0.6958 - val_accuracy: 0.7500\n",
            "Epoch 60/200\n",
            "3/3 [==============================] - 0s 13ms/step - loss: 0.5566 - accuracy: 0.8125 - val_loss: 0.6914 - val_accuracy: 0.7500\n",
            "Epoch 61/200\n",
            "3/3 [==============================] - 0s 14ms/step - loss: 0.5526 - accuracy: 0.8125 - val_loss: 0.6872 - val_accuracy: 0.7500\n",
            "Epoch 62/200\n",
            "3/3 [==============================] - 0s 13ms/step - loss: 0.5488 - accuracy: 0.8125 - val_loss: 0.6832 - val_accuracy: 0.7500\n",
            "Epoch 63/200\n",
            "3/3 [==============================] - 0s 14ms/step - loss: 0.5448 - accuracy: 0.8125 - val_loss: 0.6787 - val_accuracy: 0.7500\n",
            "Epoch 64/200\n",
            "3/3 [==============================] - 0s 13ms/step - loss: 0.5410 - accuracy: 0.8125 - val_loss: 0.6740 - val_accuracy: 0.7500\n",
            "Epoch 65/200\n",
            "3/3 [==============================] - 0s 14ms/step - loss: 0.5370 - accuracy: 0.8125 - val_loss: 0.6700 - val_accuracy: 0.7500\n",
            "Epoch 66/200\n",
            "3/3 [==============================] - 0s 14ms/step - loss: 0.5332 - accuracy: 0.8125 - val_loss: 0.6659 - val_accuracy: 0.7500\n",
            "Epoch 67/200\n",
            "3/3 [==============================] - 0s 25ms/step - loss: 0.5296 - accuracy: 0.8125 - val_loss: 0.6618 - val_accuracy: 0.7500\n",
            "Epoch 68/200\n",
            "3/3 [==============================] - 0s 14ms/step - loss: 0.5261 - accuracy: 0.8125 - val_loss: 0.6583 - val_accuracy: 0.7500\n",
            "Epoch 69/200\n",
            "3/3 [==============================] - 0s 14ms/step - loss: 0.5228 - accuracy: 0.8125 - val_loss: 0.6551 - val_accuracy: 0.7500\n",
            "Epoch 70/200\n",
            "3/3 [==============================] - 0s 13ms/step - loss: 0.5198 - accuracy: 0.8125 - val_loss: 0.6515 - val_accuracy: 0.7500\n",
            "Epoch 71/200\n",
            "3/3 [==============================] - 0s 14ms/step - loss: 0.5161 - accuracy: 0.8125 - val_loss: 0.6479 - val_accuracy: 0.7500\n",
            "Epoch 72/200\n",
            "3/3 [==============================] - 0s 13ms/step - loss: 0.5129 - accuracy: 0.8125 - val_loss: 0.6443 - val_accuracy: 0.7500\n",
            "Epoch 73/200\n",
            "3/3 [==============================] - 0s 13ms/step - loss: 0.5098 - accuracy: 0.8125 - val_loss: 0.6414 - val_accuracy: 0.7500\n",
            "Epoch 74/200\n",
            "3/3 [==============================] - 0s 24ms/step - loss: 0.5067 - accuracy: 0.8125 - val_loss: 0.6376 - val_accuracy: 0.7500\n",
            "Epoch 75/200\n",
            "3/3 [==============================] - 0s 15ms/step - loss: 0.5035 - accuracy: 0.8125 - val_loss: 0.6346 - val_accuracy: 0.7500\n",
            "Epoch 76/200\n",
            "3/3 [==============================] - 0s 13ms/step - loss: 0.5005 - accuracy: 0.8125 - val_loss: 0.6313 - val_accuracy: 0.7500\n",
            "Epoch 77/200\n",
            "3/3 [==============================] - 0s 12ms/step - loss: 0.4975 - accuracy: 0.8125 - val_loss: 0.6275 - val_accuracy: 0.7500\n",
            "Epoch 78/200\n",
            "3/3 [==============================] - 0s 14ms/step - loss: 0.4947 - accuracy: 0.8375 - val_loss: 0.6252 - val_accuracy: 0.7500\n",
            "Epoch 79/200\n",
            "3/3 [==============================] - 0s 13ms/step - loss: 0.4918 - accuracy: 0.8125 - val_loss: 0.6225 - val_accuracy: 0.7500\n",
            "Epoch 80/200\n",
            "3/3 [==============================] - 0s 19ms/step - loss: 0.4890 - accuracy: 0.8125 - val_loss: 0.6195 - val_accuracy: 0.7500\n",
            "Epoch 81/200\n",
            "3/3 [==============================] - 0s 14ms/step - loss: 0.4863 - accuracy: 0.8250 - val_loss: 0.6168 - val_accuracy: 0.7500\n",
            "Epoch 82/200\n",
            "3/3 [==============================] - 0s 15ms/step - loss: 0.4837 - accuracy: 0.8375 - val_loss: 0.6138 - val_accuracy: 0.7500\n",
            "Epoch 83/200\n",
            "3/3 [==============================] - 0s 18ms/step - loss: 0.4810 - accuracy: 0.8375 - val_loss: 0.6110 - val_accuracy: 0.7500\n",
            "Epoch 84/200\n",
            "3/3 [==============================] - 0s 19ms/step - loss: 0.4783 - accuracy: 0.8375 - val_loss: 0.6082 - val_accuracy: 0.7500\n",
            "Epoch 85/200\n",
            "3/3 [==============================] - 0s 14ms/step - loss: 0.4758 - accuracy: 0.8375 - val_loss: 0.6058 - val_accuracy: 0.7500\n",
            "Epoch 86/200\n",
            "3/3 [==============================] - 0s 14ms/step - loss: 0.4732 - accuracy: 0.8375 - val_loss: 0.6032 - val_accuracy: 0.7500\n",
            "Epoch 87/200\n",
            "3/3 [==============================] - 0s 13ms/step - loss: 0.4707 - accuracy: 0.8375 - val_loss: 0.6007 - val_accuracy: 0.7500\n",
            "Epoch 88/200\n",
            "3/3 [==============================] - 0s 13ms/step - loss: 0.4683 - accuracy: 0.8375 - val_loss: 0.5987 - val_accuracy: 0.7500\n",
            "Epoch 89/200\n",
            "3/3 [==============================] - 0s 13ms/step - loss: 0.4658 - accuracy: 0.8375 - val_loss: 0.5961 - val_accuracy: 0.7500\n",
            "Epoch 90/200\n",
            "3/3 [==============================] - 0s 13ms/step - loss: 0.4636 - accuracy: 0.8375 - val_loss: 0.5935 - val_accuracy: 0.7500\n",
            "Epoch 91/200\n",
            "3/3 [==============================] - 0s 13ms/step - loss: 0.4611 - accuracy: 0.8375 - val_loss: 0.5908 - val_accuracy: 0.7500\n",
            "Epoch 92/200\n",
            "3/3 [==============================] - 0s 13ms/step - loss: 0.4587 - accuracy: 0.8375 - val_loss: 0.5881 - val_accuracy: 0.7500\n",
            "Epoch 93/200\n",
            "3/3 [==============================] - 0s 13ms/step - loss: 0.4563 - accuracy: 0.8375 - val_loss: 0.5860 - val_accuracy: 0.7500\n",
            "Epoch 94/200\n",
            "3/3 [==============================] - 0s 15ms/step - loss: 0.4539 - accuracy: 0.8375 - val_loss: 0.5833 - val_accuracy: 0.7500\n",
            "Epoch 95/200\n",
            "3/3 [==============================] - 0s 13ms/step - loss: 0.4517 - accuracy: 0.8375 - val_loss: 0.5815 - val_accuracy: 0.7500\n",
            "Epoch 96/200\n",
            "3/3 [==============================] - 0s 15ms/step - loss: 0.4499 - accuracy: 0.8375 - val_loss: 0.5793 - val_accuracy: 0.7500\n",
            "Epoch 97/200\n",
            "3/3 [==============================] - 0s 14ms/step - loss: 0.4474 - accuracy: 0.8375 - val_loss: 0.5769 - val_accuracy: 0.7500\n",
            "Epoch 98/200\n",
            "3/3 [==============================] - 0s 14ms/step - loss: 0.4453 - accuracy: 0.8375 - val_loss: 0.5748 - val_accuracy: 0.7500\n",
            "Epoch 99/200\n",
            "3/3 [==============================] - 0s 23ms/step - loss: 0.4433 - accuracy: 0.8375 - val_loss: 0.5721 - val_accuracy: 0.7500\n",
            "Epoch 100/200\n",
            "3/3 [==============================] - 0s 14ms/step - loss: 0.4411 - accuracy: 0.8375 - val_loss: 0.5699 - val_accuracy: 0.7500\n",
            "Epoch 101/200\n",
            "3/3 [==============================] - 0s 13ms/step - loss: 0.4390 - accuracy: 0.8500 - val_loss: 0.5676 - val_accuracy: 0.7500\n",
            "Epoch 102/200\n",
            "3/3 [==============================] - 0s 13ms/step - loss: 0.4371 - accuracy: 0.8500 - val_loss: 0.5656 - val_accuracy: 0.7500\n",
            "Epoch 103/200\n",
            "3/3 [==============================] - 0s 23ms/step - loss: 0.4350 - accuracy: 0.8500 - val_loss: 0.5634 - val_accuracy: 0.7500\n",
            "Epoch 104/200\n",
            "3/3 [==============================] - 0s 15ms/step - loss: 0.4331 - accuracy: 0.8500 - val_loss: 0.5613 - val_accuracy: 0.7500\n",
            "Epoch 105/200\n",
            "3/3 [==============================] - 0s 16ms/step - loss: 0.4313 - accuracy: 0.8500 - val_loss: 0.5594 - val_accuracy: 0.7500\n",
            "Epoch 106/200\n",
            "3/3 [==============================] - 0s 24ms/step - loss: 0.4294 - accuracy: 0.8625 - val_loss: 0.5579 - val_accuracy: 0.7500\n",
            "Epoch 107/200\n",
            "3/3 [==============================] - 0s 13ms/step - loss: 0.4275 - accuracy: 0.8625 - val_loss: 0.5559 - val_accuracy: 0.7500\n",
            "Epoch 108/200\n",
            "3/3 [==============================] - 0s 13ms/step - loss: 0.4260 - accuracy: 0.8625 - val_loss: 0.5544 - val_accuracy: 0.7500\n",
            "Epoch 109/200\n",
            "3/3 [==============================] - 0s 14ms/step - loss: 0.4241 - accuracy: 0.8625 - val_loss: 0.5525 - val_accuracy: 0.7500\n",
            "Epoch 110/200\n",
            "3/3 [==============================] - 0s 13ms/step - loss: 0.4224 - accuracy: 0.8625 - val_loss: 0.5503 - val_accuracy: 0.8000\n",
            "Epoch 111/200\n",
            "3/3 [==============================] - 0s 13ms/step - loss: 0.4208 - accuracy: 0.8625 - val_loss: 0.5487 - val_accuracy: 0.8000\n",
            "Epoch 112/200\n",
            "3/3 [==============================] - 0s 17ms/step - loss: 0.4190 - accuracy: 0.8625 - val_loss: 0.5462 - val_accuracy: 0.8000\n",
            "Epoch 113/200\n",
            "3/3 [==============================] - 0s 15ms/step - loss: 0.4172 - accuracy: 0.8625 - val_loss: 0.5443 - val_accuracy: 0.8000\n",
            "Epoch 114/200\n",
            "3/3 [==============================] - 0s 13ms/step - loss: 0.4155 - accuracy: 0.8625 - val_loss: 0.5423 - val_accuracy: 0.8000\n",
            "Epoch 115/200\n",
            "3/3 [==============================] - 0s 14ms/step - loss: 0.4138 - accuracy: 0.8625 - val_loss: 0.5408 - val_accuracy: 0.8000\n",
            "Epoch 116/200\n",
            "3/3 [==============================] - 0s 13ms/step - loss: 0.4123 - accuracy: 0.8625 - val_loss: 0.5391 - val_accuracy: 0.8000\n",
            "Epoch 117/200\n",
            "3/3 [==============================] - 0s 13ms/step - loss: 0.4107 - accuracy: 0.8625 - val_loss: 0.5372 - val_accuracy: 0.8000\n",
            "Epoch 118/200\n",
            "3/3 [==============================] - 0s 14ms/step - loss: 0.4090 - accuracy: 0.8625 - val_loss: 0.5358 - val_accuracy: 0.8000\n",
            "Epoch 119/200\n",
            "3/3 [==============================] - 0s 14ms/step - loss: 0.4076 - accuracy: 0.8625 - val_loss: 0.5341 - val_accuracy: 0.8000\n",
            "Epoch 120/200\n",
            "3/3 [==============================] - 0s 13ms/step - loss: 0.4062 - accuracy: 0.8625 - val_loss: 0.5328 - val_accuracy: 0.8000\n",
            "Epoch 121/200\n",
            "3/3 [==============================] - 0s 19ms/step - loss: 0.4046 - accuracy: 0.8625 - val_loss: 0.5315 - val_accuracy: 0.8000\n",
            "Epoch 122/200\n",
            "3/3 [==============================] - 0s 15ms/step - loss: 0.4031 - accuracy: 0.8625 - val_loss: 0.5302 - val_accuracy: 0.8000\n",
            "Epoch 123/200\n",
            "3/3 [==============================] - 0s 17ms/step - loss: 0.4017 - accuracy: 0.8625 - val_loss: 0.5290 - val_accuracy: 0.8000\n",
            "Epoch 124/200\n",
            "3/3 [==============================] - 0s 15ms/step - loss: 0.4008 - accuracy: 0.8625 - val_loss: 0.5280 - val_accuracy: 0.8000\n",
            "Epoch 125/200\n",
            "3/3 [==============================] - 0s 14ms/step - loss: 0.3990 - accuracy: 0.8625 - val_loss: 0.5260 - val_accuracy: 0.8000\n",
            "Epoch 126/200\n",
            "3/3 [==============================] - 0s 16ms/step - loss: 0.3974 - accuracy: 0.8625 - val_loss: 0.5248 - val_accuracy: 0.8000\n",
            "Epoch 127/200\n",
            "3/3 [==============================] - 0s 13ms/step - loss: 0.3960 - accuracy: 0.8625 - val_loss: 0.5237 - val_accuracy: 0.8000\n",
            "Epoch 128/200\n",
            "3/3 [==============================] - 0s 15ms/step - loss: 0.3948 - accuracy: 0.8625 - val_loss: 0.5220 - val_accuracy: 0.8000\n",
            "Epoch 129/200\n",
            "3/3 [==============================] - 0s 14ms/step - loss: 0.3933 - accuracy: 0.8625 - val_loss: 0.5206 - val_accuracy: 0.8000\n",
            "Epoch 130/200\n",
            "3/3 [==============================] - 0s 19ms/step - loss: 0.3920 - accuracy: 0.8625 - val_loss: 0.5192 - val_accuracy: 0.8000\n",
            "Epoch 131/200\n",
            "3/3 [==============================] - 0s 15ms/step - loss: 0.3908 - accuracy: 0.8625 - val_loss: 0.5180 - val_accuracy: 0.8000\n",
            "Epoch 132/200\n",
            "3/3 [==============================] - 0s 17ms/step - loss: 0.3897 - accuracy: 0.8625 - val_loss: 0.5167 - val_accuracy: 0.8000\n",
            "Epoch 133/200\n",
            "3/3 [==============================] - 0s 15ms/step - loss: 0.3882 - accuracy: 0.8750 - val_loss: 0.5153 - val_accuracy: 0.8000\n",
            "Epoch 134/200\n",
            "3/3 [==============================] - 0s 19ms/step - loss: 0.3871 - accuracy: 0.8750 - val_loss: 0.5140 - val_accuracy: 0.8000\n",
            "Epoch 135/200\n",
            "3/3 [==============================] - 0s 22ms/step - loss: 0.3858 - accuracy: 0.8750 - val_loss: 0.5126 - val_accuracy: 0.8000\n",
            "Epoch 136/200\n",
            "3/3 [==============================] - 0s 22ms/step - loss: 0.3845 - accuracy: 0.8750 - val_loss: 0.5118 - val_accuracy: 0.8000\n",
            "Epoch 137/200\n",
            "3/3 [==============================] - 0s 22ms/step - loss: 0.3834 - accuracy: 0.8750 - val_loss: 0.5112 - val_accuracy: 0.8000\n",
            "Epoch 138/200\n",
            "3/3 [==============================] - 0s 17ms/step - loss: 0.3821 - accuracy: 0.8750 - val_loss: 0.5099 - val_accuracy: 0.8000\n",
            "Epoch 139/200\n",
            "3/3 [==============================] - 0s 18ms/step - loss: 0.3810 - accuracy: 0.8750 - val_loss: 0.5090 - val_accuracy: 0.8000\n",
            "Epoch 140/200\n",
            "3/3 [==============================] - 0s 17ms/step - loss: 0.3797 - accuracy: 0.8750 - val_loss: 0.5082 - val_accuracy: 0.8000\n",
            "Epoch 141/200\n",
            "3/3 [==============================] - 0s 19ms/step - loss: 0.3787 - accuracy: 0.8750 - val_loss: 0.5068 - val_accuracy: 0.8000\n",
            "Epoch 142/200\n",
            "3/3 [==============================] - 0s 18ms/step - loss: 0.3773 - accuracy: 0.8750 - val_loss: 0.5058 - val_accuracy: 0.8000\n",
            "Epoch 143/200\n",
            "3/3 [==============================] - 0s 30ms/step - loss: 0.3763 - accuracy: 0.8750 - val_loss: 0.5048 - val_accuracy: 0.8000\n",
            "Epoch 144/200\n",
            "3/3 [==============================] - 0s 30ms/step - loss: 0.3753 - accuracy: 0.8750 - val_loss: 0.5034 - val_accuracy: 0.8000\n",
            "Epoch 145/200\n",
            "3/3 [==============================] - 0s 19ms/step - loss: 0.3741 - accuracy: 0.8750 - val_loss: 0.5023 - val_accuracy: 0.8000\n",
            "Epoch 146/200\n",
            "3/3 [==============================] - 0s 22ms/step - loss: 0.3730 - accuracy: 0.8750 - val_loss: 0.5014 - val_accuracy: 0.8000\n",
            "Epoch 147/200\n",
            "3/3 [==============================] - 0s 17ms/step - loss: 0.3721 - accuracy: 0.8750 - val_loss: 0.5005 - val_accuracy: 0.8000\n",
            "Epoch 148/200\n",
            "3/3 [==============================] - 0s 34ms/step - loss: 0.3711 - accuracy: 0.8750 - val_loss: 0.4998 - val_accuracy: 0.8000\n",
            "Epoch 149/200\n",
            "3/3 [==============================] - 0s 26ms/step - loss: 0.3699 - accuracy: 0.8750 - val_loss: 0.4990 - val_accuracy: 0.8000\n",
            "Epoch 150/200\n",
            "3/3 [==============================] - 0s 21ms/step - loss: 0.3691 - accuracy: 0.8750 - val_loss: 0.4986 - val_accuracy: 0.8000\n",
            "Epoch 151/200\n",
            "3/3 [==============================] - 0s 19ms/step - loss: 0.3680 - accuracy: 0.8750 - val_loss: 0.4974 - val_accuracy: 0.8000\n",
            "Epoch 152/200\n",
            "3/3 [==============================] - 0s 17ms/step - loss: 0.3668 - accuracy: 0.8750 - val_loss: 0.4964 - val_accuracy: 0.8000\n",
            "Epoch 153/200\n",
            "3/3 [==============================] - 0s 18ms/step - loss: 0.3659 - accuracy: 0.8750 - val_loss: 0.4956 - val_accuracy: 0.8000\n",
            "Epoch 154/200\n",
            "3/3 [==============================] - 0s 17ms/step - loss: 0.3649 - accuracy: 0.8750 - val_loss: 0.4946 - val_accuracy: 0.8000\n",
            "Epoch 155/200\n",
            "3/3 [==============================] - 0s 18ms/step - loss: 0.3642 - accuracy: 0.8750 - val_loss: 0.4939 - val_accuracy: 0.8000\n",
            "Epoch 156/200\n",
            "3/3 [==============================] - 0s 20ms/step - loss: 0.3631 - accuracy: 0.8750 - val_loss: 0.4931 - val_accuracy: 0.8000\n",
            "Epoch 157/200\n",
            "3/3 [==============================] - 0s 24ms/step - loss: 0.3623 - accuracy: 0.8750 - val_loss: 0.4928 - val_accuracy: 0.8000\n",
            "Epoch 158/200\n",
            "3/3 [==============================] - 0s 18ms/step - loss: 0.3612 - accuracy: 0.8750 - val_loss: 0.4923 - val_accuracy: 0.8000\n",
            "Epoch 159/200\n",
            "3/3 [==============================] - 0s 19ms/step - loss: 0.3604 - accuracy: 0.8750 - val_loss: 0.4913 - val_accuracy: 0.8000\n",
            "Epoch 160/200\n",
            "3/3 [==============================] - 0s 19ms/step - loss: 0.3596 - accuracy: 0.8750 - val_loss: 0.4901 - val_accuracy: 0.8000\n",
            "Epoch 161/200\n",
            "3/3 [==============================] - 0s 30ms/step - loss: 0.3585 - accuracy: 0.8750 - val_loss: 0.4893 - val_accuracy: 0.8000\n",
            "Epoch 162/200\n",
            "3/3 [==============================] - 0s 23ms/step - loss: 0.3575 - accuracy: 0.8750 - val_loss: 0.4888 - val_accuracy: 0.8000\n",
            "Epoch 163/200\n",
            "3/3 [==============================] - 0s 17ms/step - loss: 0.3568 - accuracy: 0.8750 - val_loss: 0.4874 - val_accuracy: 0.8000\n",
            "Epoch 164/200\n",
            "3/3 [==============================] - 0s 17ms/step - loss: 0.3558 - accuracy: 0.8750 - val_loss: 0.4866 - val_accuracy: 0.8000\n",
            "Epoch 165/200\n",
            "3/3 [==============================] - 0s 17ms/step - loss: 0.3550 - accuracy: 0.8750 - val_loss: 0.4862 - val_accuracy: 0.8000\n",
            "Epoch 166/200\n",
            "3/3 [==============================] - 0s 16ms/step - loss: 0.3543 - accuracy: 0.8750 - val_loss: 0.4858 - val_accuracy: 0.8000\n",
            "Epoch 167/200\n",
            "3/3 [==============================] - 0s 18ms/step - loss: 0.3533 - accuracy: 0.8750 - val_loss: 0.4849 - val_accuracy: 0.8000\n",
            "Epoch 168/200\n",
            "3/3 [==============================] - 0s 18ms/step - loss: 0.3525 - accuracy: 0.8750 - val_loss: 0.4841 - val_accuracy: 0.8000\n",
            "Epoch 169/200\n",
            "3/3 [==============================] - 0s 20ms/step - loss: 0.3517 - accuracy: 0.8750 - val_loss: 0.4834 - val_accuracy: 0.8000\n",
            "Epoch 170/200\n",
            "3/3 [==============================] - 0s 21ms/step - loss: 0.3510 - accuracy: 0.8750 - val_loss: 0.4823 - val_accuracy: 0.8000\n",
            "Epoch 171/200\n",
            "3/3 [==============================] - 0s 19ms/step - loss: 0.3500 - accuracy: 0.8750 - val_loss: 0.4815 - val_accuracy: 0.8000\n",
            "Epoch 172/200\n",
            "3/3 [==============================] - 0s 17ms/step - loss: 0.3492 - accuracy: 0.8750 - val_loss: 0.4810 - val_accuracy: 0.8000\n",
            "Epoch 173/200\n",
            "3/3 [==============================] - 0s 17ms/step - loss: 0.3484 - accuracy: 0.8750 - val_loss: 0.4804 - val_accuracy: 0.8000\n",
            "Epoch 174/200\n",
            "3/3 [==============================] - 0s 17ms/step - loss: 0.3477 - accuracy: 0.8750 - val_loss: 0.4796 - val_accuracy: 0.8000\n",
            "Epoch 175/200\n",
            "3/3 [==============================] - 0s 17ms/step - loss: 0.3471 - accuracy: 0.8750 - val_loss: 0.4786 - val_accuracy: 0.8000\n",
            "Epoch 176/200\n",
            "3/3 [==============================] - 0s 17ms/step - loss: 0.3460 - accuracy: 0.8750 - val_loss: 0.4778 - val_accuracy: 0.8000\n",
            "Epoch 177/200\n",
            "3/3 [==============================] - 0s 20ms/step - loss: 0.3452 - accuracy: 0.8750 - val_loss: 0.4772 - val_accuracy: 0.8000\n",
            "Epoch 178/200\n",
            "3/3 [==============================] - 0s 17ms/step - loss: 0.3446 - accuracy: 0.8750 - val_loss: 0.4767 - val_accuracy: 0.8000\n",
            "Epoch 179/200\n",
            "3/3 [==============================] - 0s 16ms/step - loss: 0.3437 - accuracy: 0.8750 - val_loss: 0.4763 - val_accuracy: 0.8000\n",
            "Epoch 180/200\n",
            "3/3 [==============================] - 0s 18ms/step - loss: 0.3432 - accuracy: 0.8750 - val_loss: 0.4757 - val_accuracy: 0.8000\n",
            "Epoch 181/200\n",
            "3/3 [==============================] - 0s 16ms/step - loss: 0.3421 - accuracy: 0.8750 - val_loss: 0.4749 - val_accuracy: 0.8000\n",
            "Epoch 182/200\n",
            "3/3 [==============================] - 0s 19ms/step - loss: 0.3416 - accuracy: 0.8750 - val_loss: 0.4747 - val_accuracy: 0.8000\n",
            "Epoch 183/200\n",
            "3/3 [==============================] - 0s 31ms/step - loss: 0.3408 - accuracy: 0.8750 - val_loss: 0.4742 - val_accuracy: 0.8000\n",
            "Epoch 184/200\n",
            "3/3 [==============================] - 0s 20ms/step - loss: 0.3400 - accuracy: 0.8750 - val_loss: 0.4735 - val_accuracy: 0.8000\n",
            "Epoch 185/200\n",
            "3/3 [==============================] - 0s 17ms/step - loss: 0.3393 - accuracy: 0.8750 - val_loss: 0.4732 - val_accuracy: 0.8000\n",
            "Epoch 186/200\n",
            "3/3 [==============================] - 0s 17ms/step - loss: 0.3386 - accuracy: 0.8750 - val_loss: 0.4730 - val_accuracy: 0.8000\n",
            "Epoch 187/200\n",
            "3/3 [==============================] - 0s 16ms/step - loss: 0.3379 - accuracy: 0.8750 - val_loss: 0.4727 - val_accuracy: 0.8000\n",
            "Epoch 188/200\n",
            "3/3 [==============================] - 0s 18ms/step - loss: 0.3371 - accuracy: 0.8750 - val_loss: 0.4721 - val_accuracy: 0.8000\n",
            "Epoch 189/200\n",
            "3/3 [==============================] - 0s 26ms/step - loss: 0.3365 - accuracy: 0.8750 - val_loss: 0.4717 - val_accuracy: 0.8000\n",
            "Epoch 190/200\n",
            "3/3 [==============================] - 0s 26ms/step - loss: 0.3358 - accuracy: 0.8875 - val_loss: 0.4707 - val_accuracy: 0.8000\n",
            "Epoch 191/200\n",
            "3/3 [==============================] - 0s 18ms/step - loss: 0.3351 - accuracy: 0.8750 - val_loss: 0.4701 - val_accuracy: 0.8000\n",
            "Epoch 192/200\n",
            "3/3 [==============================] - 0s 20ms/step - loss: 0.3345 - accuracy: 0.8750 - val_loss: 0.4699 - val_accuracy: 0.8000\n",
            "Epoch 193/200\n",
            "3/3 [==============================] - 0s 29ms/step - loss: 0.3339 - accuracy: 0.8875 - val_loss: 0.4689 - val_accuracy: 0.8000\n",
            "Epoch 194/200\n",
            "3/3 [==============================] - 0s 19ms/step - loss: 0.3333 - accuracy: 0.8750 - val_loss: 0.4682 - val_accuracy: 0.8000\n",
            "Epoch 195/200\n",
            "3/3 [==============================] - 0s 17ms/step - loss: 0.3325 - accuracy: 0.8750 - val_loss: 0.4679 - val_accuracy: 0.8000\n",
            "Epoch 196/200\n",
            "3/3 [==============================] - 0s 18ms/step - loss: 0.3319 - accuracy: 0.8875 - val_loss: 0.4673 - val_accuracy: 0.8000\n",
            "Epoch 197/200\n",
            "3/3 [==============================] - 0s 17ms/step - loss: 0.3313 - accuracy: 0.8875 - val_loss: 0.4662 - val_accuracy: 0.8000\n",
            "Epoch 198/200\n",
            "3/3 [==============================] - 0s 20ms/step - loss: 0.3305 - accuracy: 0.8875 - val_loss: 0.4657 - val_accuracy: 0.8000\n",
            "Epoch 199/200\n",
            "3/3 [==============================] - 0s 33ms/step - loss: 0.3299 - accuracy: 0.8875 - val_loss: 0.4654 - val_accuracy: 0.8000\n",
            "Epoch 200/200\n",
            "3/3 [==============================] - 0s 19ms/step - loss: 0.3295 - accuracy: 0.8875 - val_loss: 0.4654 - val_accuracy: 0.8000\n"
          ]
        }
      ]
    },
    {
      "cell_type": "code",
      "source": [
        "# Construindo o Gráfico\n",
        "plt.plot(historico.history['accuracy'])\n",
        "plt.plot(historico.history['val_accuracy'])\n",
        "plt.title('Acurácia por época')\n",
        "plt.xlabel('época' )\n",
        "plt.ylabel('acurácia')\n",
        "plt.legend(['treino', 'validação'])"
      ],
      "metadata": {
        "colab": {
          "base_uri": "https://localhost:8080/",
          "height": 321
        },
        "id": "QDsRN8P-l4bX",
        "outputId": "bcf7e6b5-fc4a-43f7-e8c6-c5358d1eac25"
      },
      "execution_count": 137,
      "outputs": [
        {
          "output_type": "execute_result",
          "data": {
            "text/plain": [
              "<matplotlib.legend.Legend at 0x7f2ce4156f50>"
            ]
          },
          "metadata": {},
          "execution_count": 137
        },
        {
          "output_type": "display_data",
          "data": {
            "text/plain": [
              "<Figure size 432x288 with 1 Axes>"
            ],
            "image/png": "[encoded data removed]"
          },
          "metadata": {
            "needs_background": "light"
          }
        }
      ]
    },
    {
      "cell_type": "code",
      "source": [
        "# Avaliando o modelo\n",
        "perda_teste, acuracia_teste = modelo.evaluate(X_test, y_test)\n",
        "print('Perda do teste:', perda_teste)\n",
        "print('Acurácia do teste:', acuracia_teste) "
      ],
      "metadata": {
        "colab": {
          "base_uri": "https://localhost:8080/"
        },
        "id": "ysIHRHHgmOfc",
        "outputId": "e8ff0005-f934-4dd7-ce69-3ffc77fd618f"
      },
      "execution_count": 138,
      "outputs": [
        {
          "output_type": "stream",
          "name": "stdout",
          "text": [
            "2/2 [==============================] - 0s 5ms/step - loss: 0.3698 - accuracy: 0.8400\n",
            "Perda do teste: 0.36984583735466003\n",
            "Acurácia do teste: 0.8399999737739563\n"
          ]
        }
      ]
    }
  ]
}